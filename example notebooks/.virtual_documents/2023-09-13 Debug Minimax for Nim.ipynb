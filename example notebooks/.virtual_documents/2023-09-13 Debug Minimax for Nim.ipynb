from Game import *
from Game.minimax import *


def initial_state():
    return 21

def valid_moves(state,player):
    if state==1:
        return [1]
    elif state==2:
        return [1,2]
    else:
        return [1,2,3]
        
def show_state(state):
    print ("There are ",state," sticks left.")

def update_state(state,player,move):
    new_state=state-move
    return new_state

def win_status(state,player):

    if state==1:
        return 'win'
    
    elif state==0:
        return 'lose'
    
    else:
        return None

def random_move(state,player):
    move=random.choice(valid_moves(state,player))
    return move


def human_move(state,player):

    move=input('Take 1, 2 or 3 sticks ')
    return move


def minimax_move(state,player):

    values,moves=minimax_values(state,player)
    return top_choice(moves,values)
    
    
minimax_agent=Agent(minimax_move)
random_agent=Agent(random_move)
human_agent=Agent(human_move)






g=Game()
wins=g.run(random_agent,minimax_agent)

g.report()


s=inspect.signature(random_agent.move)


len(s.parameters)





minimax_values(6,1)





minimax_values(5,1)





def initial_state():
    return 27


values,moves=minimax_values(27,1)  # was about 2 seconds


values,moves=minimax_values(31,1)


values,moves





g=Game()
wins=g.run(random_agent,minimax_agent)
g.report()





def minimax_move(state,player):

    values,moves=minimax_values(state,player,maxdepth=5)
    return top_choice(moves,values)
    
def heuristic(state,player):
    # handing the oppponent the state, is this good for you (positive) or bad for you (negative)
    if state%2 == 0: # giving the opponent an even number tends to be bad
        return -0.5
    else:
        return 0.5 # giving the opponent an odd number tends to be good
    
    # if you're just interested penalizing long games, just return zero.
    
minimax_agent=Agent(minimax_move)


minimax_values(15,1,maxdepth=5)


minimax_values(15,1)


print (minimax_values(27,1,maxdepth=5))
print (minimax_values(27,1))


g=Game()
wins=g.run(random_agent,minimax_agent)
g.report()





def minimax_move(state,player):
    values,moves=minimax_values(state,player,adjust_values_by_depth=True)
    return top_choice(moves,values)
minimax_agent=Agent(minimax_move)


print (minimax_values(14,1,adjust_values_by_depth=True))



