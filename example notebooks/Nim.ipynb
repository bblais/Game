{
 "cells": [
  {
   "cell_type": "code",
   "execution_count": 5,
   "metadata": {
    "collapsed": true
   },
   "outputs": [],
   "source": [
    "from Game import *"
   ]
  },
  {
   "cell_type": "markdown",
   "metadata": {},
   "source": [
    "## Minimum necessary functions"
   ]
  },
  {
   "cell_type": "code",
   "execution_count": 6,
   "metadata": {
    "collapsed": true
   },
   "outputs": [],
   "source": [
    "def initial_state():\n",
    "    return 21"
   ]
  },
  {
   "cell_type": "code",
   "execution_count": 7,
   "metadata": {
    "collapsed": true
   },
   "outputs": [],
   "source": [
    "def valid_moves(state,player):\n",
    "\n",
    "    if state==1:\n",
    "        return [1]\n",
    "    elif state==2:\n",
    "        return [1,2]\n",
    "    else:\n",
    "        return [1,2,3]\n",
    " "
   ]
  },
  {
   "cell_type": "code",
   "execution_count": 8,
   "metadata": {
    "collapsed": true
   },
   "outputs": [],
   "source": [
    "def show_state(state):\n",
    "    print(\"There are \",state,\" sticks left.\")"
   ]
  },
  {
   "cell_type": "code",
   "execution_count": 9,
   "metadata": {
    "collapsed": true
   },
   "outputs": [],
   "source": [
    "def update_state(state,player,move):\n",
    "    new_state=state-move\n",
    "    return new_state"
   ]
  },
  {
   "cell_type": "code",
   "execution_count": 13,
   "metadata": {
    "collapsed": true
   },
   "outputs": [],
   "source": [
    "def win_status(state,player):\n",
    "    if state==1:\n",
    "        return 'win'\n",
    "    elif state==0:\n",
    "        return 'lose'    \n",
    "    else:\n",
    "        return None"
   ]
  },
  {
   "cell_type": "markdown",
   "metadata": {},
   "source": [
    "## Agents"
   ]
  },
  {
   "cell_type": "code",
   "execution_count": 14,
   "metadata": {
    "collapsed": true
   },
   "outputs": [],
   "source": [
    "# agents\n",
    "\n",
    "def random_move(state,player):\n",
    "    moves=valid_moves(state,player)\n",
    "    return random.choice(moves)\n",
    "\n",
    "def human_move(state,player):\n",
    "    move=eval(input('Take 1, 2 or 3 sticks '))\n",
    "    return move\n",
    "\n",
    "\n",
    "human_agent=Agent(human_move)\n",
    "random_agent=Agent(random_move)\n"
   ]
  },
  {
   "cell_type": "markdown",
   "metadata": {},
   "source": [
    "## Run against a person"
   ]
  },
  {
   "cell_type": "code",
   "execution_count": 15,
   "metadata": {
    "collapsed": false
   },
   "outputs": [
    {
     "name": "stdout",
     "output_type": "stream",
     "text": [
      "====\n",
      "Game  1\n",
      "There are  21  sticks left.\n",
      "Take 1, 2 or 3 sticks 2\n",
      "Player 1 moves 2\n",
      "There are  19  sticks left.\n",
      "Player 2 moves 2\n",
      "There are  17  sticks left.\n",
      "Take 1, 2 or 3 sticks 2\n",
      "Player 1 moves 2\n",
      "There are  15  sticks left.\n",
      "Player 2 moves 3\n",
      "There are  12  sticks left.\n",
      "Take 1, 2 or 3 sticks 2\n",
      "Player 1 moves 2\n",
      "There are  10  sticks left.\n",
      "Player 2 moves 2\n",
      "There are  8  sticks left.\n",
      "Take 1, 2 or 3 sticks 1\n",
      "Player 1 moves 1\n",
      "There are  7  sticks left.\n",
      "Player 2 moves 1\n",
      "There are  6  sticks left.\n",
      "Take 1, 2 or 3 sticks 1\n",
      "Player 1 moves 1\n",
      "There are  5  sticks left.\n",
      "Player 2 moves 3\n",
      "There are  2  sticks left.\n",
      "Take 1, 2 or 3 sticks 1\n",
      "Player 1 moves 1\n",
      "There are  1  sticks left.\n",
      "Player  1 won.\n",
      "Total number of games:  1\n",
      "Winning 100.00 percent\n",
      "Losing 0.00 percent\n",
      "Tie 0.00 percent\n"
     ]
    }
   ],
   "source": [
    "g=Game(number_of_games=1)\n",
    "g.run(human_agent,random_agent)\n",
    "g.report()\n"
   ]
  },
  {
   "cell_type": "markdown",
   "metadata": {},
   "source": [
    "## Run many times"
   ]
  },
  {
   "cell_type": "code",
   "execution_count": 19,
   "metadata": {
    "collapsed": false
   },
   "outputs": [
    {
     "name": "stdout",
     "output_type": "stream",
     "text": [
      "Total number of games:  100\n",
      "Winning 45.00 percent\n",
      "Losing 55.00 percent\n",
      "Tie 0.00 percent\n"
     ]
    }
   ],
   "source": [
    "\n",
    "g=Game(number_of_games=100)\n",
    "g.display=False\n",
    "g.run(random_agent,random_agent)\n",
    "g.report()\n"
   ]
  },
  {
   "cell_type": "code",
   "execution_count": null,
   "metadata": {
    "collapsed": true
   },
   "outputs": [],
   "source": []
  }
 ],
 "metadata": {
  "kernelspec": {
   "display_name": "Python [Root]",
   "language": "python",
   "name": "Python [Root]"
  },
  "language_info": {
   "codemirror_mode": {
    "name": "ipython",
    "version": 3
   },
   "file_extension": ".py",
   "mimetype": "text/x-python",
   "name": "python",
   "nbconvert_exporter": "python",
   "pygments_lexer": "ipython3",
   "version": "3.5.2"
  }
 },
 "nbformat": 4,
 "nbformat_minor": 0
}
