{
 "cells": [
  {
   "cell_type": "code",
   "execution_count": 1,
   "metadata": {},
   "outputs": [
    {
     "name": "stdout",
     "output_type": "stream",
     "text": [
      "Version:  0.2.20\n"
     ]
    }
   ],
   "source": [
    "from Game import *"
   ]
  },
  {
   "cell_type": "code",
   "execution_count": 2,
   "metadata": {},
   "outputs": [],
   "source": [
    "def initial_state():\n",
    "    b=Board(3,3)\n",
    "    b.pieces=['.','X','O']\n",
    "    return b"
   ]
  },
  {
   "cell_type": "code",
   "execution_count": 3,
   "metadata": {},
   "outputs": [],
   "source": [
    "def valid_moves(board,player):\n",
    "\n",
    "    empty=[]\n",
    "    for i in range(9):\n",
    "        if board[i]==0:\n",
    "            empty.append(i)\n",
    "\n",
    "    return empty"
   ]
  },
  {
   "cell_type": "code",
   "execution_count": 4,
   "metadata": {},
   "outputs": [],
   "source": [
    "def check_three_in_a_row(row):\n",
    "\n",
    "    if row[0]==1 and row[1]==1 and row[2]==1:\n",
    "        return 1\n",
    "    elif row[0]==2 and row[1]==2 and row[2]==2:\n",
    "        return 2\n",
    "    else:\n",
    "        return 0"
   ]
  },
  {
   "cell_type": "code",
   "execution_count": 5,
   "metadata": {},
   "outputs": [],
   "source": [
    "def win_status(board,player):\n",
    "    # in ttt, after a move, that player can either win or stalemate\n",
    "    # they can't lose after their own move\n",
    "    \n",
    "    if check_three_in_a_row( [board[0],board[1],board[2] ])==player:\n",
    "        return 'win'\n",
    "\n",
    "    if check_three_in_a_row( [board[2],board[5],board[8] ])==player:\n",
    "        return 'win'\n",
    "\n",
    "    if check_three_in_a_row( [board[3],board[4],board[5] ])==player:\n",
    "        return 'win'\n",
    "\n",
    "    if check_three_in_a_row( [board[6],board[7],board[8] ])==player:\n",
    "        return 'win'\n",
    "\n",
    "    if check_three_in_a_row( [board[0],board[3],board[6] ])==player:\n",
    "        return 'win'\n",
    "\n",
    "    if check_three_in_a_row( [board[1],board[4],board[7] ])==player:\n",
    "        return 'win'\n",
    "\n",
    "    if check_three_in_a_row( [board[0],board[4],board[8] ])==player:\n",
    "        return 'win'\n",
    "\n",
    "    if check_three_in_a_row( [board[6],board[4],board[2] ])==player:\n",
    "        return 'win'\n",
    "\n",
    "\n",
    "    # stalemate\n",
    "    tie=True\n",
    "    for i in range(9):\n",
    "        if board[i]==0:\n",
    "            tie=False\n",
    "\n",
    "    if tie:\n",
    "        return 'stalemate'\n",
    "\n",
    "\n",
    "\n",
    "    return None\n"
   ]
  },
  {
   "cell_type": "code",
   "execution_count": 6,
   "metadata": {},
   "outputs": [],
   "source": [
    "def update_state(board,player,move):\n",
    "    board[move]=player\n",
    "    return board\n"
   ]
  },
  {
   "cell_type": "code",
   "execution_count": 7,
   "metadata": {},
   "outputs": [],
   "source": [
    "def show_state(board):\n",
    "\n",
    "    print(board)\n",
    "    \n",
    "    print()\n",
    "    print(\"Choices:\")\n",
    "    print(\"\"\"\n",
    "     0 | 1 | 2\n",
    "    ---+---+---\n",
    "     3 | 4 | 5\n",
    "    ---+---+---\n",
    "     6 | 7 | 8\n",
    "    \"\"\")\n"
   ]
  },
  {
   "cell_type": "code",
   "execution_count": null,
   "metadata": {},
   "outputs": [],
   "source": []
  },
  {
   "cell_type": "code",
   "execution_count": 32,
   "metadata": {},
   "outputs": [],
   "source": [
    "def random_move(state,player,memory=None):\n",
    "\n",
    "    moves=valid_moves(state,player)\n",
    "    return random.choice(moves)\n",
    "\n",
    "def first_move(state,player,memory=None):\n",
    "\n",
    "    moves=valid_moves(state,player)\n",
    "    return moves[0]\n",
    "\n",
    "def human_move(state,player,memory=None):\n",
    "    print(\"Player \", player, end=' ')\n",
    "    valid_move=False\n",
    "    while not valid_move:\n",
    "        move=eval(input('What is your move? '))\n",
    "\n",
    "        if move in valid_moves(state,player):\n",
    "            valid_move=True\n",
    "        else:\n",
    "            print(\"Illegal move.\")\n",
    "\n",
    "    return move\n",
    " "
   ]
  },
  {
   "cell_type": "code",
   "execution_count": 33,
   "metadata": {},
   "outputs": [],
   "source": [
    "human_agent=Agent(human_move)\n",
    "random_agent=Agent(random_move)\n",
    "first_agent=Agent(first_move)\n"
   ]
  },
  {
   "cell_type": "code",
   "execution_count": 34,
   "metadata": {},
   "outputs": [],
   "source": [
    "# g=Game(number_of_games=1)\n",
    "# g.run(human_agent,random_agent)\n",
    "# g.report()   # state the percentage of wins, ties, etc..."
   ]
  },
  {
   "cell_type": "code",
   "execution_count": 35,
   "metadata": {},
   "outputs": [],
   "source": [
    "from collections import UserList\n",
    "class ActionList(UserList):\n",
    "    \n",
    "    def sample(self):\n",
    "        return random.choice(self)\n",
    "\n",
    "from copy import deepcopy\n",
    "class GameEnv(object):\n",
    "    \n",
    "    def __init__(self):\n",
    "        self.functions=Struct()\n",
    "        self.functions.initial_state=initial_state\n",
    "        self.functions.valid_moves=valid_moves\n",
    "        self.functions.update_state=update_state\n",
    "        self.functions.show_state=show_state\n",
    "        self.functions.win_status=win_status\n",
    "\n",
    "        self.reset()\n",
    "    \n",
    "    def reset(self):\n",
    "        self.player=1\n",
    "        self.state=self.functions.initial_state(),self.player\n",
    "    \n",
    "        observation=self.state\n",
    "        return observation\n",
    "\n",
    "    def render(self,mode='human'):\n",
    "        if mode=='human':\n",
    "            board,player=self.state\n",
    "        \n",
    "            print(f\"Player {player}\\nBoard:\\n{board}\")\n",
    "        else:\n",
    "            raise NotImplementedError\n",
    "    \n",
    "    @property\n",
    "    def action_space(self):\n",
    "        board,player=self.state\n",
    "        valid_moves=self.functions.valid_moves(board,player)\n",
    "        return ActionList(valid_moves)\n",
    "    \n",
    "    def step(self,action):\n",
    "        board,player=self.state\n",
    "        valid_moves=self.functions.valid_moves(board,player)\n",
    "\n",
    "        if action not in valid_moves:\n",
    "            observation,reward,done,info=self.state,-1000,True,None\n",
    "            return observation,reward,done,info\n",
    "        \n",
    "        \n",
    "        move=action\n",
    "        board=deepcopy(board)  # update state might change the board\n",
    "        new_board=self.functions.update_state(board,player,move)\n",
    "        \n",
    "        status=self.functions.win_status(new_board,player)\n",
    "        if status=='win':\n",
    "            observation,reward,done,info=self.state,100,True,None\n",
    "            return observation,reward,done,info\n",
    "        elif status=='lose':\n",
    "            observation,reward,done,info=self.state,-100,True,None\n",
    "            return observation,reward,done,info\n",
    "        elif status=='stalemate':\n",
    "            observation,reward,done,info=self.state,0,True,None\n",
    "            return observation,reward,done,info\n",
    "        elif status is None:\n",
    "            if self.player==1:\n",
    "                self.player=2\n",
    "            else:\n",
    "                self.player=1\n",
    "                \n",
    "            self.state=new_board,self.player\n",
    "\n",
    "            observation,reward,done,info=self.state,0,False,None\n",
    "            return observation,reward,done,info\n",
    "        else:\n",
    "            raise ValueError\n",
    "    \n",
    "    def close(self):\n",
    "        pass\n",
    "    \n",
    "    "
   ]
  },
  {
   "cell_type": "markdown",
   "metadata": {},
   "source": [
    "## Can I do Q-learning?"
   ]
  },
  {
   "cell_type": "code",
   "execution_count": 12,
   "metadata": {},
   "outputs": [],
   "source": [
    "def Q_move(board,player,memory):  # just the move\n",
    "    Q=memory.Q\n",
    "    alpha=memory.alpha\n",
    "    gamma=memory.gamma\n",
    "    epsilon=memory.epsilon\n",
    "    \n",
    "    if not board in Q:\n",
    "        Q[board]=Table()\n",
    "        for action in valid_moves(board,player):\n",
    "            Q[board][action]=0.0\n",
    "\n",
    "    if random.random()<epsilon:  # random move\n",
    "        action=random_choice(Q[board])\n",
    "    else:\n",
    "        action=top_choice(Q[board])\n",
    "\n",
    "    return action\n",
    "\n",
    "        \n",
    "def Q_update(old_observation,action,new_observation,reward,done,memory):\n",
    "    Q=memory.Q\n",
    "    alpha=memory.alpha\n",
    "    gamma=memory.gamma\n",
    "    epsilon=memory.epsilon\n",
    "    \n",
    "    if done:\n",
    "        board,player = old_observation\n",
    "        Q[board][action]+=alpha*(reward - Q[board][action] )\n",
    "    else:\n",
    "        board,player = old_observation\n",
    "        new_board,new_player = new_observation\n",
    "        assert player==player\n",
    "    \n",
    "        Q[board][action]+=alpha*(reward + \n",
    "                                 gamma*max([Q[new_board][a] for a in Q[new_board]]) - \n",
    "                                 Q[board][action] )  "
   ]
  },
  {
   "cell_type": "code",
   "execution_count": 13,
   "metadata": {},
   "outputs": [],
   "source": [
    "from numpy import exp"
   ]
  },
  {
   "cell_type": "code",
   "execution_count": 14,
   "metadata": {},
   "outputs": [],
   "source": [
    "Qmemory=Struct()\n",
    "Qmemory.Q=Table()\n",
    "Qmemory.alpha=0.3\n",
    "Qmemory.gamma=0.9\n",
    "Qmemory.epsilon=.1\n",
    "Qmemory.epsilon_decay=0.01      \n",
    "\n",
    "Q_agent=Agent(Q_move)\n",
    "Q_agent.update=Q_update"
   ]
  },
  {
   "cell_type": "code",
   "execution_count": 15,
   "metadata": {},
   "outputs": [],
   "source": [
    "train_episodes = 2000    \n",
    "test_episodes = 100\n",
    "max_steps=500"
   ]
  },
  {
   "cell_type": "code",
   "execution_count": 31,
   "metadata": {},
   "outputs": [
    {
     "name": "stdout",
     "output_type": "stream",
     "text": [
      "Training score over time: 16.35\n",
      "wins: 79.0\n",
      "losses: 14.000000000000002\n",
      "ties: 7.000000000000001\n"
     ]
    }
   ],
   "source": [
    "agents={1:first_agent,\n",
    "        2:Q_agent,\n",
    "       }\n",
    "\n",
    "memories={1:None,\n",
    "         2: Qmemory}\n",
    "\n",
    "observations={1:[],\n",
    "             2:[],}\n",
    "\n",
    "actions={1:[],\n",
    "         2:[],}\n",
    "\n",
    "rewards={1:[],\n",
    "         2:[],}\n",
    "\n",
    "\n",
    "\n",
    "env = GameEnv()\n",
    "\n",
    "#Training the agent\n",
    "\n",
    "#Creating lists to keep track of reward and epsilon values\n",
    "training_rewards = []\n",
    "epsilons = []\n",
    "\n",
    "for episode in range(train_episodes):\n",
    "    #Reseting the environment each time as per requirement\n",
    "    observation = env.reset()\n",
    "\n",
    "    #Starting the tracker for the rewards\n",
    "    total_training_rewards = 0\n",
    "    \n",
    "    for step in range(max_steps):\n",
    "        #env.render()\n",
    "        \n",
    "        board,player=observation\n",
    "        observations[player].append(observation)\n",
    "        other_player=3-player\n",
    "        \n",
    "        action=agents[player].move(board,player,memories[player])\n",
    "        actions[player].append(action)\n",
    "        \n",
    "        #print(f\"action: {action}\")\n",
    "        new_observation, reward, done, info = env.step(action)\n",
    "        \n",
    "        \n",
    "        if memories[player]:\n",
    "            agents[player].update(observation,action,reward,done,memories[player])\n",
    "        \n",
    "        if done and memories[other_player]:\n",
    "            agents[other_player].update(None,None,reward,done,memories[other_player])  # not my turn, but the learning needs to be done\n",
    "        \n",
    "        \n",
    "        #Increasing our total reward and updating the state\n",
    "        if player==2:\n",
    "            total_training_rewards += reward      \n",
    "            \n",
    "        observation = new_observation     \n",
    "        \n",
    "        #Ending the episode\n",
    "        if done == True:\n",
    "            #print (\"Total reward for episode {}: {}\".format(episode, total_training_rewards))\n",
    "            break\n",
    "    \n",
    "    #Cutting down on exploration by reducing the epsilon \n",
    "    memory=memories[2]\n",
    "    epsilon=memory.epsilon\n",
    "    #memory.epsilon = min_epsilon + (max_epsilon - min_epsilon)*exp(-decay*episode)\n",
    "    \n",
    "    #Adding the total reward and reduced epsilon values\n",
    "    training_rewards.append(total_training_rewards)\n",
    "    epsilons.append(epsilon)\n",
    "    \n",
    "\n",
    "print (\"Training score over time: \" + str(sum(training_rewards)/train_episodes))\n",
    "\n",
    "wins=0\n",
    "losses=0\n",
    "ties=0\n",
    "\n",
    "for episode in range(test_episodes):\n",
    "    observation = env.reset()\n",
    "    for step in range(max_steps):\n",
    "        #env.render()\n",
    "        \n",
    "        board,player=observation\n",
    "        other_player=3-player\n",
    "        \n",
    "        action=agents[player].move(board,player,memories[player])\n",
    "        #print(f\"action: {action}\")\n",
    "        new_observation, reward, done, info = env.step(action)\n",
    "        observation = new_observation   \n",
    "        \n",
    "        \n",
    "        if done:\n",
    "            if player==2:\n",
    "                reward=-reward\n",
    "            \n",
    "            if reward==100:\n",
    "                wins+=1\n",
    "            elif reward==-100:\n",
    "                losses+=1\n",
    "            elif reward==0:\n",
    "                ties+=1\n",
    "            else:\n",
    "                raise ValueError\n",
    "                \n",
    "               \n",
    "            break\n",
    "            \n",
    "print(\"wins:\",wins/test_episodes*100)\n",
    "print(\"losses:\",losses/test_episodes*100)\n",
    "print(\"ties:\",ties/test_episodes*100)\n",
    "                \n",
    "\n",
    "            \n",
    "        "
   ]
  },
  {
   "cell_type": "code",
   "execution_count": null,
   "metadata": {},
   "outputs": [],
   "source": []
  },
  {
   "cell_type": "code",
   "execution_count": 26,
   "metadata": {},
   "outputs": [
    {
     "name": "stdout",
     "output_type": "stream",
     "text": [
      "Populating the interactive namespace from numpy and matplotlib\n"
     ]
    },
    {
     "name": "stderr",
     "output_type": "stream",
     "text": [
      "/Users/bblais/opt/anaconda3/lib/python3.7/site-packages/IPython/core/magics/pylab.py:160: UserWarning: pylab import has clobbered these variables: ['info', 'step']\n",
      "`%matplotlib` prevents importing * from pylab and numpy\n",
      "  \"\\n`%matplotlib` prevents importing * from pylab and numpy\"\n"
     ]
    }
   ],
   "source": [
    "%pylab inline"
   ]
  },
  {
   "cell_type": "code",
   "execution_count": 27,
   "metadata": {},
   "outputs": [
    {
     "data": {
      "image/png": "[encoded data removed]",
      "text/plain": [
       "<Figure size 432x288 with 1 Axes>"
      ]
     },
     "metadata": {
      "needs_background": "light"
     },
     "output_type": "display_data"
    }
   ],
   "source": [
    "#Visualizing results and total reward over all episodes\n",
    "x = range(train_episodes)\n",
    "plot(x, training_rewards)\n",
    "xlabel('Episode')\n",
    "ylabel('Training total reward')\n",
    "title('Total rewards over all episodes in training') \n",
    "show()"
   ]
  },
  {
   "cell_type": "code",
   "execution_count": 19,
   "metadata": {},
   "outputs": [
    {
     "ename": "NameError",
     "evalue": "name 'Q' is not defined",
     "output_type": "error",
     "traceback": [
      "\u001b[0;31m---------------------------------------------------------------------------\u001b[0m",
      "\u001b[0;31mNameError\u001b[0m                                 Traceback (most recent call last)",
      "\u001b[0;32m<ipython-input-19-f257ae524af2>\u001b[0m in \u001b[0;36m<module>\u001b[0;34m\u001b[0m\n\u001b[0;32m----> 1\u001b[0;31m \u001b[0mQ\u001b[0m\u001b[0;34m\u001b[0m\u001b[0;34m\u001b[0m\u001b[0m\n\u001b[0m",
      "\u001b[0;31mNameError\u001b[0m: name 'Q' is not defined"
     ]
    }
   ],
   "source": [
    "Q"
   ]
  },
  {
   "cell_type": "code",
   "execution_count": null,
   "metadata": {},
   "outputs": [],
   "source": []
  }
 ],
 "metadata": {
  "kernelspec": {
   "display_name": "Python 3",
   "language": "python",
   "name": "python3"
  },
  "language_info": {
   "codemirror_mode": {
    "name": "ipython",
    "version": 3
   },
   "file_extension": ".py",
   "mimetype": "text/x-python",
   "name": "python",
   "nbconvert_exporter": "python",
   "pygments_lexer": "ipython3",
   "version": "3.7.6"
  }
 },
 "nbformat": 4,
 "nbformat_minor": 4
}
