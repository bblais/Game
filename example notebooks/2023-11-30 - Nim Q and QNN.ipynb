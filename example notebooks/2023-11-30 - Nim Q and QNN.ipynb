{
 "cells": [
  {
   "cell_type": "code",
   "execution_count": 1,
   "metadata": {},
   "outputs": [
    {
     "name": "stdout",
     "output_type": "stream",
     "text": [
      "Version:  0.3.07\n"
     ]
    }
   ],
   "source": [
    "from Game import *"
   ]
  },
  {
   "cell_type": "code",
   "execution_count": 2,
   "metadata": {},
   "outputs": [],
   "source": [
    "from tqdm import tqdm"
   ]
  },
  {
   "cell_type": "code",
   "execution_count": 3,
   "metadata": {},
   "outputs": [],
   "source": [
    "def initial_state():\n",
    "    return 9\n",
    "\n",
    "def valid_moves(state,player):\n",
    "    if state==1:\n",
    "        return [1]\n",
    "    elif state==2:\n",
    "        return [1,2]\n",
    "    else:\n",
    "        return [1,2,3]\n",
    "        \n",
    "def show_state(state):\n",
    "    print (\"There are \",state,\" sticks left.\")\n",
    "\n",
    "def update_state(state,player,move):\n",
    "    new_state=state-move\n",
    "    return new_state\n",
    "\n",
    "def win_status(state,player):\n",
    "\n",
    "    if state==1:\n",
    "        return 'win'\n",
    "    \n",
    "    elif state==0:\n",
    "        return 'lose'\n",
    "    \n",
    "    else:\n",
    "        return None\n"
   ]
  },
  {
   "cell_type": "code",
   "execution_count": 4,
   "metadata": {},
   "outputs": [],
   "source": [
    "def random_move(state,player):\n",
    "\n",
    "    moves=valid_moves(state,player)\n",
    "    return random.choice(moves)\n",
    "\n",
    "def human_move(state,player):\n",
    "    print(\"Player \", player, end=' ')\n",
    "    valid_move=False\n",
    "    while not valid_move:\n",
    "        move=eval(input('What is your move? '))\n",
    "\n",
    "        if move in valid_moves(state,player):\n",
    "            valid_move=True\n",
    "        else:\n",
    "            print(\"Illegal move.\")\n",
    "\n",
    "    return move\n",
    " "
   ]
  },
  {
   "cell_type": "code",
   "execution_count": 5,
   "metadata": {},
   "outputs": [],
   "source": [
    "\n",
    "\n",
    "random_agent=Agent(random_move)\n",
    "human_agent=Agent(human_move)\n"
   ]
  },
  {
   "cell_type": "code",
   "execution_count": 6,
   "metadata": {},
   "outputs": [],
   "source": [
    "from Game.mcts import *\n",
    "def mcts_move(state,player,info):\n",
    "    T=info.T\n",
    "    values,moves=mcts_values(state,player,T,info.seconds)\n",
    "    return top_choice(moves,values)\n",
    "\n",
    "mcts_agent=Agent(mcts_move)\n",
    "mcts_agent.T=Table()\n",
    "mcts_agent.seconds=1"
   ]
  },
  {
   "cell_type": "markdown",
   "metadata": {},
   "source": [
    "**looks like one mcts game needs to be run for the mcts_run_simulation to have copies of the games functions -- this is a bug**"
   ]
  },
  {
   "cell_type": "code",
   "execution_count": 7,
   "metadata": {},
   "outputs": [
    {
     "name": "stdout",
     "output_type": "stream",
     "text": [
      "Total number of games:  1\n",
      "Player 1 (mcts) Winning 100.00 percent\n",
      "Player 2 (random) Winning 0.00 percent\n",
      "Tie 0.00 percent\n"
     ]
    }
   ],
   "source": [
    "g=Game(number_of_games=1)\n",
    "g.display=False\n",
    "wins=g.run(mcts_agent,random_agent)\n",
    "g.report()"
   ]
  },
  {
   "cell_type": "code",
   "execution_count": 8,
   "metadata": {},
   "outputs": [
    {
     "data": {
      "text/plain": [
       "((9, 6, 3), (1, 2, 1), 1)"
      ]
     },
     "execution_count": 8,
     "metadata": {},
     "output_type": "execute_result"
    }
   ],
   "source": [
    "state=initial_state()\n",
    "T=Table()\n",
    "mcts_run_simulation(state,player=1,T=T,save_states=True)"
   ]
  },
  {
   "cell_type": "code",
   "execution_count": 9,
   "metadata": {},
   "outputs": [
    {
     "name": "stdout",
     "output_type": "stream",
     "text": [
      "Version  1.0.7\n",
      "nn 0 0 2\n"
     ]
    }
   ],
   "source": [
    "import numpy as np\n",
    "from nn import NumpyNetTable"
   ]
  },
  {
   "cell_type": "code",
   "execution_count": 10,
   "metadata": {},
   "outputs": [],
   "source": [
    "def all_possible_moves():\n",
    "    all_moves=[1,2,3]\n",
    "            \n",
    "    return all_moves\n",
    "\n",
    "# length 9 with +1, -1, 0\n",
    "def state_to_X(state):\n",
    "    max_state=9\n",
    "    import numpy as np\n",
    "    arr=np.zeros((1,max_state))  # number of samples, size\n",
    "    arr[0,state-1]=1\n",
    "                     \n",
    "    return arr\n",
    "\n"
   ]
  },
  {
   "cell_type": "code",
   "execution_count": 11,
   "metadata": {},
   "outputs": [
    {
     "data": {
      "text/plain": [
       "8"
      ]
     },
     "execution_count": 11,
     "metadata": {},
     "output_type": "execute_result"
    }
   ],
   "source": [
    "state=8\n",
    "state"
   ]
  },
  {
   "cell_type": "code",
   "execution_count": 12,
   "metadata": {},
   "outputs": [
    {
     "data": {
      "text/plain": [
       "array([[0., 0., 0., 0., 0., 0., 0., 1., 0.]])"
      ]
     },
     "execution_count": 12,
     "metadata": {},
     "output_type": "execute_result"
    }
   ],
   "source": [
    "state_to_X(state)"
   ]
  },
  {
   "cell_type": "code",
   "execution_count": 13,
   "metadata": {},
   "outputs": [],
   "source": [
    "from datetime import datetime"
   ]
  },
  {
   "cell_type": "code",
   "execution_count": 14,
   "metadata": {},
   "outputs": [],
   "source": [
    "def QNN_move(state,player,info):\n",
    "    Q=info.Q\n",
    "    last_action=info.last_action\n",
    "    last_state=info.last_state\n",
    "\n",
    "    learning=info.learning\n",
    "    alpha=info.alpha  # learning rate\n",
    "    gamma=info.gamma  # memory \n",
    "    epsilon=info.epsilon  # probability of doing random move\n",
    "    number_of_games_mcts=info.number_of_games_mcts  # for the MCTS\n",
    "    T=info.T  # mcts table\n",
    "    if T is None:  #if the table is None, then reset it each move for memory\n",
    "        T=Table()\n",
    "    \n",
    "    new_state=state\n",
    "    new_actual_moves=valid_moves(new_state,player)    \n",
    "    new_action_values=Q[new_state]\n",
    "    new_values=[new_action_values[move] for move in new_actual_moves] \n",
    "    \n",
    "    if learning and random.random()<epsilon:  # random move\n",
    "        action=random.choice(new_actual_moves)\n",
    "    else:\n",
    "        action=top_choice(new_actual_moves,weights=new_values)\n",
    "\n",
    "            \n",
    "#         # Ask the model for the Q values of the old state (inference)\n",
    "#         old_state_Q_values = self.get_Q(old_state)\n",
    "\n",
    "#         # Ask the model for the Q values of the new state (inference)\n",
    "#         new_state_Q_values = self.get_Q(new_state)\n",
    "\n",
    "#         # Real Q value for the action we took. This is what we will train towards.\n",
    "#         old_state_Q_values[action] = reward + self.discount * np.amax(new_state_Q_values)\n",
    "        \n",
    "    if not learning or alpha==0:  # no learning\n",
    "        return action\n",
    "\n",
    "    # we won't learn from the current game, we'll play out a number of MCTS games\n",
    "    calculation_time=1 # maximum seconds of mcts\n",
    "    games=0\n",
    "    begin=datetime.utcnow()\n",
    "    all_states=[]\n",
    "    while ( (datetime.utcnow()-begin).total_seconds()< calculation_time) and (games<number_of_games_mcts):\n",
    "        states,moves,game_reward=mcts_run_simulation(state,player,max_moves=30,T=T,save_states=True)\n",
    "        all_states.append((states,moves,game_reward))\n",
    "        games+=1\n",
    "\n",
    "    for states,moves,game_reward in all_states:\n",
    "\n",
    "        possible_moves=Q.all_moves\n",
    "        for k in range(len(states)-1):\n",
    "            state1=states[k]\n",
    "            move1=moves[k]\n",
    "            state2=states[k+1]\n",
    "\n",
    "            actual_moves1=valid_moves(state1,player)\n",
    "            action_values1=Q[state1]\n",
    "            values1=[action_values1[move] for move in actual_moves1] \n",
    "\n",
    "            actual_moves2=valid_moves(state2,player)\n",
    "            action_values2=Q[state2]\n",
    "            values2=[action_values2[move] for move in actual_moves2] \n",
    "\n",
    "            target=[]\n",
    "            for i,move in enumerate(possible_moves):\n",
    "                if move==move1:\n",
    "                    target.append(0 + gamma*max(values2))  # max of actually available values, mid-game reward\n",
    "                elif move in actual_moves1:  # keep the old values for valid moves\n",
    "                    target.append(action_values1[move])\n",
    "                else:\n",
    "                    target.append(-1)  # lose with illegal move\n",
    "    \n",
    "            Q[state1]=target            \n",
    "\n",
    "        # last move\n",
    "        state2=states[-1]\n",
    "        move2=moves[-1]\n",
    "        actual_moves2=valid_moves(state2,player)\n",
    "        action_values2=Q[state2]\n",
    "        values2=[action_values2[move] for move in actual_moves2] \n",
    "\n",
    "        r=game_reward\n",
    "        \n",
    "        target=[]\n",
    "        for i,move in enumerate(possible_moves):\n",
    "            if move==move2:\n",
    "                target.append(r)  # max of actually available values\n",
    "            elif move in actual_moves2:  # keep the old values for valid moves\n",
    "                target.append(action_values2[move])\n",
    "            else:\n",
    "                target.append(-1)  # lose with illegal move\n",
    "\n",
    "        Q[state2]=target            \n",
    "    \n",
    "        \n",
    "    return action\n",
    "\n"
   ]
  },
  {
   "cell_type": "code",
   "execution_count": 27,
   "metadata": {},
   "outputs": [],
   "source": [
    "QNN1_agent=Agent(QNN_move)\n",
    "\n",
    "QNN1_agent.alpha=0.05  # learning rate\n",
    "QNN1_agent.gamma=0.95  # memory\n",
    "QNN1_agent.epsilon=0.1  # chance of making a random move\n",
    "QNN1_agent.T=Table()  # this is for MCTS\n",
    "QNN1_agent.number_of_games_mcts=25\n",
    "QNN1_agent.learning=True\n",
    "\n",
    "\n",
    "QNN2_agent=Agent(QNN_move)\n",
    "\n",
    "QNN2_agent.alpha=0.05  # learning rate\n",
    "QNN2_agent.gamma=0.95  # memory\n",
    "QNN2_agent.epsilon=0.1  # chance of making a random move\n",
    "QNN2_agent.T=Table()  # this is for MCTS\n",
    "QNN2_agent.number_of_games_mcts=25\n",
    "QNN2_agent.learning=True\n"
   ]
  },
  {
   "cell_type": "code",
   "execution_count": 28,
   "metadata": {},
   "outputs": [
    {
     "name": "stdout",
     "output_type": "stream",
     "text": [
      "9\n",
      "[[0. 0. 0. 0. 0. 0. 0. 0. 1.]]\n"
     ]
    }
   ],
   "source": [
    "state=initial_state()\n",
    "initial_X=state_to_X(state)\n",
    "all_moves=all_possible_moves()\n",
    "\n",
    "print(state)\n",
    "print(initial_X)\n",
    "\n",
    "QNN1_agent.Q=NumpyNetTable(state_to_X,all_possible_moves(),\n",
    "                {\n",
    "                    'input':initial_X.shape[1],               # number of inputs\n",
    "                    'hidden':[(10,'relu'),],\n",
    "                    'output':(len(all_moves),'linear'),  # number of moves\n",
    "                    'cost':'mse',\n",
    "                },\n",
    "                        verbose=False)\n",
    "\n",
    "QNN2_agent.Q=NumpyNetTable(state_to_X,all_possible_moves(),\n",
    "                {\n",
    "                    'input':initial_X.shape[1],               # number of inputs\n",
    "                    'hidden':[(10,'relu'),],\n",
    "                    'output':(len(all_moves),'linear'),  # number of moves\n",
    "                    'cost':'mse',\n",
    "                },\n",
    "                        verbose=False)\n",
    "\n",
    "# initialize things\n",
    "QNN1_agent.Q[state]=[0]*len(all_possible_moves())\n",
    "QNN2_agent.Q[state]=[0]*len(all_possible_moves())\n"
   ]
  },
  {
   "cell_type": "code",
   "execution_count": 29,
   "metadata": {},
   "outputs": [],
   "source": [
    "from Game.minimax import *\n",
    "def minimax_move(state,player):\n",
    "    values,moves=minimax_values(state,player,display=False)\n",
    "    return top_choice(moves,values)\n",
    "\n",
    "\n",
    "minimax_agent=Agent(minimax_move)"
   ]
  },
  {
   "cell_type": "code",
   "execution_count": 30,
   "metadata": {},
   "outputs": [],
   "source": [
    "agent1=QNN1_agent\n",
    "agent2=QNN2_agent\n",
    "\n",
    "N_test=100\n",
    "N_train=5"
   ]
  },
  {
   "cell_type": "code",
   "execution_count": 31,
   "metadata": {},
   "outputs": [],
   "source": [
    "S1=Storage()\n",
    "S2=Storage()\n",
    "\n",
    "one1,two1,ties1,illegal1,N1,total_train1=0,0,0,0,0,0\n",
    "one2,two2,ties2,illegal2,N2,total_train2=0,0,0,0,0,0"
   ]
  },
  {
   "cell_type": "code",
   "execution_count": 32,
   "metadata": {},
   "outputs": [
    {
     "name": "stderr",
     "output_type": "stream",
     "text": [
      "100%|█████████████████████████████████████████████████████████████| 100/100 [02:26<00:00,  1.46s/it]\n"
     ]
    }
   ],
   "source": [
    "for i in tqdm(range(100)):\n",
    "    agent1.learning=True\n",
    "    agent2.learning=True\n",
    "    g=Game(number_of_games=N_train)\n",
    "    g.display=False\n",
    "    result1=g.run(agent1,agent2)\n",
    "\n",
    "    \n",
    "    agent1.learning=False\n",
    "    agent2.learning=False\n",
    "    g=Game(number_of_games=N_test)\n",
    "    g.display=False\n",
    "    result=g.run(agent1,random_agent)\n",
    "    one1,two1,ties1,illegal1,N1,total_train1=(one1+result.count(1),\n",
    "                                two1+result.count(2),\n",
    "                                ties1+result.count(0),\n",
    "                                illegal1+result.count(3),\n",
    "                                N1+len(result),\n",
    "                                total_train1+N_train)\n",
    "    \n",
    "    S1+=one1/N1*100,two1/N1*100,ties1/N1*100,illegal1/N1*100,N1,total_train1\n",
    "\n",
    "    agent1.learning=False\n",
    "    agent2.learning=False\n",
    "    g=Game(number_of_games=N_test)\n",
    "    g.display=False\n",
    "    result=g.run(random_agent,agent2)\n",
    "    one2,two2,ties2,illegal2,N2,total_train2=(one2+result.count(1),\n",
    "                                two2+result.count(2),\n",
    "                                ties2+result.count(0),\n",
    "                                illegal2+result.count(3),\n",
    "                                N2+len(result),\n",
    "                                total_train2+N_train)\n",
    "    \n",
    "    S2+=one2/N2*100,two2/N2*100,ties2/N2*100,illegal2/N2*100,N2,total_train2\n",
    "\n"
   ]
  },
  {
   "cell_type": "code",
   "execution_count": 21,
   "metadata": {},
   "outputs": [],
   "source": [
    "%matplotlib inline\n",
    "from matplotlib.pyplot import figure,plot,grid,legend,xlabel,ylabel,title"
   ]
  },
  {
   "cell_type": "code",
   "execution_count": 22,
   "metadata": {},
   "outputs": [
    {
     "data": {
      "text/plain": [
       "Text(0, 0.5, 'Percent')"
      ]
     },
     "execution_count": 22,
     "metadata": {},
     "output_type": "execute_result"
    },
    {
     "data": {
      "image/png": "[encoded data removed]",
      "text/plain": [
       "<Figure size 1600x800 with 1 Axes>"
      ]
     },
     "metadata": {},
     "output_type": "display_data"
    }
   ],
   "source": [
    "y1,y2,y0,y3,x,t=S1.arrays()\n",
    "figure(figsize=(16,8))\n",
    "plot(t,y1,'-o',label='One Win')\n",
    "plot(t,y2,'-o',label='Two Win')\n",
    "plot(t,y0,'-o',label='Tie')\n",
    "if any(y3):\n",
    "    plot(t,y3,'-o',label='Illegal')\n",
    "legend()\n",
    "title('Agent 1')\n",
    "xlabel('Number of Games')\n",
    "ylabel('Percent')"
   ]
  },
  {
   "cell_type": "code",
   "execution_count": 23,
   "metadata": {},
   "outputs": [
    {
     "data": {
      "text/plain": [
       "Text(0, 0.5, 'Percent')"
      ]
     },
     "execution_count": 23,
     "metadata": {},
     "output_type": "execute_result"
    },
    {
     "data": {
      "image/png": "[encoded data removed]",
      "text/plain": [
       "<Figure size 1600x800 with 1 Axes>"
      ]
     },
     "metadata": {},
     "output_type": "display_data"
    }
   ],
   "source": [
    "y1,y2,y0,y3,x,t=S2.arrays()\n",
    "figure(figsize=(16,8))\n",
    "plot(t,y1,'-o',label='One Win')\n",
    "plot(t,y2,'-o',label='Two Win')\n",
    "plot(t,y0,'-o',label='Tie')\n",
    "if any(y3):\n",
    "    plot(t,y3,'-o',label='Illegal')\n",
    "legend()\n",
    "title('Agent 2')\n",
    "xlabel('Number of Games')\n",
    "ylabel('Percent')"
   ]
  },
  {
   "cell_type": "code",
   "execution_count": 24,
   "metadata": {},
   "outputs": [
    {
     "name": "stdout",
     "output_type": "stream",
     "text": [
      "Total number of games:  100\n",
      "Winning 81.00 percent\n",
      "Losing 19.00 percent\n",
      "Tie 0.00 percent\n"
     ]
    }
   ],
   "source": [
    "agent1.learning=False\n",
    "agent2.learning=False\n",
    "g=Game(number_of_games=100)\n",
    "g.display=False\n",
    "result=g.run(agent1,random_agent)\n",
    "g.report()\n"
   ]
  },
  {
   "cell_type": "code",
   "execution_count": 25,
   "metadata": {},
   "outputs": [
    {
     "name": "stdout",
     "output_type": "stream",
     "text": [
      "Total number of games:  100\n",
      "Winning 0.00 percent\n",
      "Losing 100.00 percent\n",
      "Tie 0.00 percent\n"
     ]
    }
   ],
   "source": [
    "agent1.learning=False\n",
    "agent2.learning=False\n",
    "g=Game(number_of_games=100)\n",
    "g.display=False\n",
    "result=g.run(random_agent,agent2)\n",
    "g.report()\n"
   ]
  },
  {
   "cell_type": "code",
   "execution_count": 26,
   "metadata": {},
   "outputs": [
    {
     "name": "stdout",
     "output_type": "stream",
     "text": [
      "Total number of games:  100\n",
      "Winning 0.00 percent\n",
      "Losing 100.00 percent\n",
      "Tie 0.00 percent\n"
     ]
    }
   ],
   "source": [
    "agent1.learning=False\n",
    "agent2.learning=False\n",
    "g=Game(number_of_games=100)\n",
    "g.display=False\n",
    "result=g.run(minimax_agent,agent2)\n",
    "g.report()\n"
   ]
  },
  {
   "cell_type": "code",
   "execution_count": 27,
   "metadata": {},
   "outputs": [
    {
     "name": "stdout",
     "output_type": "stream",
     "text": [
      "1 : {1: -0.5977151796684406, 2: 0.6192764046633454, 3: -0.7863542530645178}\n",
      "2 : {1: 0.9995570657433875, 2: -0.6802303856804999, 3: -0.9995733819065915}\n",
      "3 : {1: -1.02063458745531, 2: 0.9998308382941161, 3: -0.973683451707656}\n",
      "4 : {1: -0.2602530315814467, 2: -0.012796834156471924, 3: 1.0000037744231665}\n",
      "5 : {1: -1.0561012187922194, 2: -1.02478777240677, 3: -0.9965322234546419}\n",
      "6 : {1: 0.9506073459151209, 2: -0.2296899272186467, 3: -0.12947075519087817}\n",
      "7 : {1: -0.5589168566397177, 2: 0.9378678526701518, 3: 0.2697524104823829}\n",
      "8 : {1: -0.0795837818590783, 2: 0.6784521857376866, 3: 0.9482274730515221}\n",
      "9 : {1: -0.751160618234101, 2: 0.04806960339237503, 3: -0.4245506033101528}\n"
     ]
    }
   ],
   "source": [
    "for state in range(1,9+1):\n",
    "    print(state,\":\",QNN2_agent.Q[state])"
   ]
  },
  {
   "cell_type": "code",
   "execution_count": null,
   "metadata": {},
   "outputs": [],
   "source": []
  }
 ],
 "metadata": {
  "kernelspec": {
   "display_name": "Python 3 (ipykernel)",
   "language": "python",
   "name": "python3"
  },
  "language_info": {
   "codemirror_mode": {
    "name": "ipython",
    "version": 3
   },
   "file_extension": ".py",
   "mimetype": "text/x-python",
   "name": "python",
   "nbconvert_exporter": "python",
   "pygments_lexer": "ipython3",
   "version": "3.12.6"
  }
 },
 "nbformat": 4,
 "nbformat_minor": 4
}
