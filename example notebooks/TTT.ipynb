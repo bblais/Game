{
 "cells": [
  {
   "cell_type": "code",
   "execution_count": 1,
   "metadata": {},
   "outputs": [
    {
     "name": "stdout",
     "output_type": "stream",
     "text": [
      "Version:  0.2.29\n"
     ]
    }
   ],
   "source": [
    "from Game import *"
   ]
  },
  {
   "cell_type": "code",
   "execution_count": 2,
   "metadata": {},
   "outputs": [],
   "source": [
    "def initial_state():\n",
    "    return Board(3,3)"
   ]
  },
  {
   "cell_type": "code",
   "execution_count": 3,
   "metadata": {
    "tags": []
   },
   "outputs": [],
   "source": [
    "def valid_moves(board,player):\n",
    "\n",
    "    empty=[]\n",
    "    for i in range(9):\n",
    "        if board[i]==0:\n",
    "            empty.append(i)\n",
    "\n",
    "    return empty"
   ]
  },
  {
   "cell_type": "code",
   "execution_count": 4,
   "metadata": {
    "tags": []
   },
   "outputs": [],
   "source": [
    "def check_three_in_a_row(row):\n",
    "\n",
    "    if row[0]==1 and row[1]==1 and row[2]==1:\n",
    "        return 1\n",
    "    elif row[0]==2 and row[1]==2 and row[2]==2:\n",
    "        return 2\n",
    "    else:\n",
    "        return 0"
   ]
  },
  {
   "cell_type": "code",
   "execution_count": 5,
   "metadata": {
    "tags": []
   },
   "outputs": [],
   "source": [
    "def win_status(board,player):\n",
    "    # in ttt, after a move, that player can either win or stalemate\n",
    "    # they can't lose after their own move\n",
    "    \n",
    "    if check_three_in_a_row( [board[0],board[1],board[2] ])==player:\n",
    "        return 'win'\n",
    "\n",
    "    if check_three_in_a_row( [board[2],board[5],board[8] ])==player:\n",
    "        return 'win'\n",
    "\n",
    "    if check_three_in_a_row( [board[3],board[4],board[5] ])==player:\n",
    "        return 'win'\n",
    "\n",
    "    if check_three_in_a_row( [board[6],board[7],board[8] ])==player:\n",
    "        return 'win'\n",
    "\n",
    "    if check_three_in_a_row( [board[0],board[3],board[6] ])==player:\n",
    "        return 'win'\n",
    "\n",
    "    if check_three_in_a_row( [board[1],board[4],board[7] ])==player:\n",
    "        return 'win'\n",
    "\n",
    "    if check_three_in_a_row( [board[0],board[4],board[8] ])==player:\n",
    "        return 'win'\n",
    "\n",
    "    if check_three_in_a_row( [board[6],board[4],board[2] ])==player:\n",
    "        return 'win'\n",
    "\n",
    "\n",
    "    # stalemate\n",
    "    tie=True\n",
    "    for i in range(9):\n",
    "        if board[i]==0:\n",
    "            tie=False\n",
    "\n",
    "    if tie:\n",
    "        return 'stalemate'\n",
    "\n",
    "\n",
    "\n",
    "    return None\n"
   ]
  },
  {
   "cell_type": "code",
   "execution_count": 6,
   "metadata": {
    "tags": []
   },
   "outputs": [],
   "source": [
    "def update_state(board,player,move):\n",
    "    board[move]=player\n",
    "    return board\n"
   ]
  },
  {
   "cell_type": "code",
   "execution_count": 7,
   "metadata": {
    "tags": []
   },
   "outputs": [],
   "source": [
    "def print_row(row):\n",
    "\n",
    "    line=''\n",
    "    if row[0]==0:\n",
    "        line=line+'   '\n",
    "    elif row[0]==1:\n",
    "        line=line+' X '\n",
    "    else:\n",
    "        line=line+' O '\n",
    "\n",
    "    line=line+'|'\n",
    "\n",
    "    if row[1]==0:\n",
    "        line=line+'   '\n",
    "    elif row[1]==1:\n",
    "        line=line+' X '\n",
    "    else:\n",
    "        line=line+' O '\n",
    "\n",
    "    line=line+'|'\n",
    "\n",
    "    if row[2]==0:\n",
    "        line=line+'   '\n",
    "    elif row[2]==1:\n",
    "        line=line+' X '\n",
    "    else:\n",
    "        line=line+' O '\n",
    "\n",
    "    line=line+'|'\n",
    "    print(line)\n"
   ]
  },
  {
   "cell_type": "code",
   "execution_count": 8,
   "metadata": {
    "tags": []
   },
   "outputs": [],
   "source": [
    "def show_state(board):\n",
    "\n",
    "    print_row( [ board[0],board[1],board[2] ])\n",
    "    print(\"---+---+---\")\n",
    "    print_row( [ board[3],board[4],board[5] ])\n",
    "    print(\"---+---+---\")\n",
    "    print_row( [ board[6],board[7],board[8]])\n",
    "    \n",
    "    print()\n",
    "    print(\"Choices:\")\n",
    "    print(\"\"\"\n",
    "     0 | 1 | 2\n",
    "    ---+---+---\n",
    "     3 | 4 | 5\n",
    "    ---+---+---\n",
    "     6 | 7 | 8\n",
    "    \"\"\")\n"
   ]
  },
  {
   "cell_type": "code",
   "execution_count": 9,
   "metadata": {
    "tags": []
   },
   "outputs": [],
   "source": [
    "def random_move(state,player):\n",
    "\n",
    "    moves=valid_moves(state,player)\n",
    "    return random.choice(moves)\n",
    "\n",
    "def human_move(state,player):\n",
    "    print(\"Player \", player, end=' ')\n",
    "    valid_move=False\n",
    "    while not valid_move:\n",
    "        move=eval(input('What is your move? '))\n",
    "\n",
    "        if move in valid_moves(state,player):\n",
    "            valid_move=True\n",
    "        else:\n",
    "            print(\"Illegal move.\")\n",
    "\n",
    "    return move\n",
    " "
   ]
  },
  {
   "cell_type": "code",
   "execution_count": 10,
   "metadata": {
    "collapsed": false,
    "jupyter": {
     "outputs_hidden": false
    }
   },
   "outputs": [
    {
     "name": "stdout",
     "output_type": "stream",
     "text": [
      "====\n",
      "Game  1\n",
      "   |   |   |\n",
      "---+---+---\n",
      "   |   |   |\n",
      "---+---+---\n",
      "   |   |   |\n",
      "\n",
      "Choices:\n",
      "\n",
      "     0 | 1 | 2\n",
      "    ---+---+---\n",
      "     3 | 4 | 5\n",
      "    ---+---+---\n",
      "     6 | 7 | 8\n",
      "    \n",
      "Player  1 "
     ]
    },
    {
     "name": "stdin",
     "output_type": "stream",
     "text": [
      "What is your move?  4\n"
     ]
    },
    {
     "name": "stdout",
     "output_type": "stream",
     "text": [
      "Player 1 moves 4\n",
      "   |   |   |\n",
      "---+---+---\n",
      "   | X |   |\n",
      "---+---+---\n",
      "   |   |   |\n",
      "\n",
      "Choices:\n",
      "\n",
      "     0 | 1 | 2\n",
      "    ---+---+---\n",
      "     3 | 4 | 5\n",
      "    ---+---+---\n",
      "     6 | 7 | 8\n",
      "    \n",
      "Player 2 moves 2\n",
      "   |   | O |\n",
      "---+---+---\n",
      "   | X |   |\n",
      "---+---+---\n",
      "   |   |   |\n",
      "\n",
      "Choices:\n",
      "\n",
      "     0 | 1 | 2\n",
      "    ---+---+---\n",
      "     3 | 4 | 5\n",
      "    ---+---+---\n",
      "     6 | 7 | 8\n",
      "    \n",
      "Player  1 "
     ]
    },
    {
     "name": "stdin",
     "output_type": "stream",
     "text": [
      "What is your move?  1\n"
     ]
    },
    {
     "name": "stdout",
     "output_type": "stream",
     "text": [
      "Player 1 moves 1\n",
      "   | X | O |\n",
      "---+---+---\n",
      "   | X |   |\n",
      "---+---+---\n",
      "   |   |   |\n",
      "\n",
      "Choices:\n",
      "\n",
      "     0 | 1 | 2\n",
      "    ---+---+---\n",
      "     3 | 4 | 5\n",
      "    ---+---+---\n",
      "     6 | 7 | 8\n",
      "    \n",
      "Player 2 moves 6\n",
      "   | X | O |\n",
      "---+---+---\n",
      "   | X |   |\n",
      "---+---+---\n",
      " O |   |   |\n",
      "\n",
      "Choices:\n",
      "\n",
      "     0 | 1 | 2\n",
      "    ---+---+---\n",
      "     3 | 4 | 5\n",
      "    ---+---+---\n",
      "     6 | 7 | 8\n",
      "    \n",
      "Player  1 "
     ]
    },
    {
     "name": "stdin",
     "output_type": "stream",
     "text": [
      "What is your move?  7\n"
     ]
    },
    {
     "name": "stdout",
     "output_type": "stream",
     "text": [
      "Player 1 moves 7\n",
      "   | X | O |\n",
      "---+---+---\n",
      "   | X |   |\n",
      "---+---+---\n",
      " O | X |   |\n",
      "\n",
      "Choices:\n",
      "\n",
      "     0 | 1 | 2\n",
      "    ---+---+---\n",
      "     3 | 4 | 5\n",
      "    ---+---+---\n",
      "     6 | 7 | 8\n",
      "    \n",
      "Player  1 won.\n",
      "Total number of games:  1\n",
      "Winning 100.00 percent\n",
      "Losing 0.00 percent\n",
      "Tie 0.00 percent\n"
     ]
    }
   ],
   "source": [
    "human_agent=Agent(human_move)\n",
    "random_agent=Agent(random_move)\n",
    "\n",
    "\n",
    "g=Game(number_of_games=1)\n",
    "g.run(human_agent,random_agent)\n",
    "g.report()   # state the percentage of wins, ties, etc...\n"
   ]
  },
  {
   "cell_type": "code",
   "execution_count": null,
   "metadata": {
    "collapsed": true,
    "jupyter": {
     "outputs_hidden": true
    }
   },
   "outputs": [],
   "source": []
  }
 ],
 "metadata": {
  "kernelspec": {
   "display_name": "Python 3",
   "language": "python",
   "name": "python3"
  },
  "language_info": {
   "codemirror_mode": {
    "name": "ipython",
    "version": 3
   },
   "file_extension": ".py",
   "mimetype": "text/x-python",
   "name": "python",
   "nbconvert_exporter": "python",
   "pygments_lexer": "ipython3",
   "version": "3.8.10"
  }
 },
 "nbformat": 4,
 "nbformat_minor": 4
}
