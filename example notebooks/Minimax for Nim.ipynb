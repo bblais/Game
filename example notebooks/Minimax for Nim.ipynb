{
 "metadata": {
  "name": "",
  "signature": "sha256:b87b7387dd18afb8e7b0fcfb4c781d64cfbd52bed927a038e2e8e21a054beb23"
 },
 "nbformat": 3,
 "nbformat_minor": 0,
 "worksheets": [
  {
   "cells": [
    {
     "cell_type": "code",
     "collapsed": false,
     "input": [
      "from Game import *\n",
      "from Game.minimax import *\n",
      "\n",
      "\n",
      "def initial_state():\n",
      "    return 21\n",
      "\n",
      "def valid_moves(state,player):\n",
      "    if state==1:\n",
      "        return [1]\n",
      "    elif state==2:\n",
      "        return [1,2]\n",
      "    else:\n",
      "        return [1,2,3]\n",
      "        \n",
      "def show_state(state):\n",
      "    print \"There are \",state,\" sticks left.\"\n",
      "\n",
      "def update_state(state,player,move):\n",
      "    new_state=state-move\n",
      "    return new_state\n",
      "\n",
      "def win_status(state,player):\n",
      "\n",
      "    if state==1:\n",
      "        return 'win'\n",
      "    \n",
      "    elif state==0:\n",
      "        return 'lose'\n",
      "    \n",
      "    else:\n",
      "        return None\n",
      "\n",
      "def random_move(state,player):\n",
      "    move=random_choice(valid_moves(state,player))\n",
      "    return move\n",
      "\n",
      "\n",
      "def human_move(state,player):\n",
      "\n",
      "    move=input('Take 1, 2 or 3 sticks ')\n",
      "    return move\n",
      "\n",
      "\n",
      "def minimax_move(state,player):\n",
      "\n",
      "    values,moves=minimax_values(state,player)\n",
      "    return top_choice(moves,values)\n",
      "    \n",
      "    \n",
      "minimax_agent=Agent(minimax_move)\n",
      "random_agent=Agent(random_move)\n",
      "human_agent=Agent(human_move)\n"
     ],
     "language": "python",
     "metadata": {},
     "outputs": [],
     "prompt_number": 3
    },
    {
     "cell_type": "markdown",
     "metadata": {},
     "source": [
      "## Running typical minimax"
     ]
    },
    {
     "cell_type": "code",
     "collapsed": false,
     "input": [
      "g=Game()\n",
      "wins=g.run(random_agent,minimax_agent)\n",
      "\n",
      "g.report()"
     ],
     "language": "python",
     "metadata": {},
     "outputs": [
      {
       "output_type": "stream",
       "stream": "stdout",
       "text": [
        "====\n",
        "Game  1\n",
        "There are  21  sticks left.\n",
        "Player 1 moves 1\n",
        "There are  20  sticks left.\n",
        "  Choice Time: 0.496379852295 seconds "
       ]
      },
      {
       "output_type": "stream",
       "stream": "stdout",
       "text": [
        "\n",
        "Player 2 moves 3\n",
        "There are  17  sticks left.\n",
        "Player 1 moves 1\n",
        "There are  16  sticks left.\n",
        "  Choice Time: 0.0767810344696 seconds "
       ]
      },
      {
       "output_type": "stream",
       "stream": "stdout",
       "text": [
        "\n",
        "Player 2 moves 3\n",
        "There are  13  sticks left.\n",
        "Player 1 moves 1\n",
        "There are  12  sticks left.\n",
        "  Choice Time: 0.0145580768585 seconds \n",
        "Player 2 moves 3\n",
        "There are  9  sticks left.\n",
        "Player 1 moves 1\n",
        "There are  8  sticks left.\n",
        "  Choice Time: 0.0013530254364 seconds \n",
        "Player 2 moves 3\n",
        "There are  5  sticks left.\n",
        "Player 1 moves 1\n",
        "There are  4  sticks left.\n",
        "  Choice Time: 0.000119924545288 seconds \n",
        "Player 2 moves 3\n",
        "There are  1  sticks left.\n",
        "Player  2 won.\n",
        "Total number of games:  1\n",
        "Winning 0.00 percent\n",
        "Losing 100.00 percent\n",
        "Tie 0.00 percent\n"
       ]
      }
     ],
     "prompt_number": 9
    },
    {
     "cell_type": "code",
     "collapsed": false,
     "input": [
      "minimax_values(6,1)"
     ],
     "language": "python",
     "metadata": {},
     "outputs": [
      {
       "output_type": "stream",
       "stream": "stdout",
       "text": [
        "  Choice Time: 0.000946998596191 seconds \n"
       ]
      },
      {
       "metadata": {},
       "output_type": "pyout",
       "prompt_number": 7,
       "text": [
        "([1, -1, -1], [1, 3, 2])"
       ]
      }
     ],
     "prompt_number": 7
    },
    {
     "cell_type": "markdown",
     "metadata": {},
     "source": [
      "when in a losing position, all the values are the same"
     ]
    },
    {
     "cell_type": "code",
     "collapsed": false,
     "input": [
      "minimax_values(5,1)"
     ],
     "language": "python",
     "metadata": {},
     "outputs": [
      {
       "output_type": "stream",
       "stream": "stdout",
       "text": [
        "  Choice Time: 0.000305891036987 seconds \n"
       ]
      },
      {
       "metadata": {},
       "output_type": "pyout",
       "prompt_number": 8,
       "text": [
        "([-1, -1, -1], [3, 2, 1])"
       ]
      }
     ],
     "prompt_number": 8
    },
    {
     "cell_type": "markdown",
     "metadata": {},
     "source": [
      "## Dealing with the long or infinite game problem"
     ]
    },
    {
     "cell_type": "code",
     "collapsed": false,
     "input": [
      "def initial_state():\n",
      "    return 27"
     ],
     "language": "python",
     "metadata": {},
     "outputs": [],
     "prompt_number": 17
    },
    {
     "cell_type": "markdown",
     "metadata": {},
     "source": [
      "when the game is long (say the initial state is large), minimax takes a long time"
     ]
    },
    {
     "cell_type": "code",
     "collapsed": false,
     "input": [
      "g=Game()\n",
      "wins=g.run(random_agent,minimax_agent)\n",
      "g.report()"
     ],
     "language": "python",
     "metadata": {},
     "outputs": [
      {
       "output_type": "stream",
       "stream": "stdout",
       "text": [
        "====\n",
        "Game  1\n",
        "There are  27  sticks left.\n",
        "Player 1 moves 1\n",
        "There are  26  sticks left.\n",
        "  Choice Time: 8.65075612068 seconds "
       ]
      },
      {
       "output_type": "stream",
       "stream": "stdout",
       "text": [
        "\n",
        "Player 2 moves 1\n",
        "There are  25  sticks left.\n",
        "Player 1 moves 1\n",
        "There are  24  sticks left.\n",
        "  Choice Time: 2.91490507126 seconds "
       ]
      },
      {
       "output_type": "stream",
       "stream": "stdout",
       "text": [
        "\n",
        "Player 2 moves 3\n",
        "There are  21  sticks left.\n",
        "Player 1 moves 2\n",
        "There are  19  sticks left.\n",
        "  Choice Time: 0.288120985031 seconds "
       ]
      },
      {
       "output_type": "stream",
       "stream": "stdout",
       "text": [
        "\n",
        "Player 2 moves 2\n",
        "There are  17  sticks left.\n",
        "Player 1 moves 1\n",
        "There are  16  sticks left.\n",
        "  Choice Time: 0.0755219459534 seconds "
       ]
      },
      {
       "output_type": "stream",
       "stream": "stdout",
       "text": [
        "\n",
        "Player 2 moves 3\n",
        "There are  13  sticks left.\n",
        "Player 1 moves 3\n",
        "There are  10  sticks left.\n",
        "  Choice Time: 0.00512313842773 seconds \n",
        "Player 2 moves 1\n",
        "There are  9  sticks left.\n",
        "Player 1 moves 3\n",
        "There are  6  sticks left.\n",
        "  Choice Time: 0.000751972198486 seconds \n",
        "Player 2 moves 1\n",
        "There are  5  sticks left.\n",
        "Player 1 moves 3\n",
        "There are  2  sticks left.\n",
        "  Choice Time: 5.60283660889e-05 seconds \n",
        "Player 2 moves 1\n",
        "There are  1  sticks left.\n",
        "Player  2 won.\n",
        "Total number of games:  1\n",
        "Winning 0.00 percent\n",
        "Losing 100.00 percent\n",
        "Tie 0.00 percent\n"
       ]
      }
     ],
     "prompt_number": 18
    },
    {
     "cell_type": "markdown",
     "metadata": {},
     "source": [
      "what we can do is to set a maximum minimax depth.  When reaching this depth, and it isn't the game, the simulator gets a value from the function called heuristic.  This is just a rule of thumb, and shouldn't return a -1 or 1 (which would be certain of the penalty).  In this case I realize that odd numbers tend to be worse than even numbers, so return a middle value.  it won't play a perfect game, unless that game is shorter than the maximum depth."
     ]
    },
    {
     "cell_type": "code",
     "collapsed": false,
     "input": [
      "def minimax_move(state,player):\n",
      "\n",
      "    values,moves=minimax_values(state,player,maxdepth=5)\n",
      "    return top_choice(moves,values)\n",
      "    \n",
      "def heuristic(state,player):\n",
      "    # handing the oppponent the state, is this good for you (positive) or bad for you (negative)\n",
      "    if state%2 == 0: # giving the opponent an even number tends to be bad\n",
      "        return -0.5\n",
      "    else:\n",
      "        return 0.5 # giving the opponent an odd number tends to be good\n",
      "    \n",
      "    # if you're just interested penalizing long games, just return zero.\n",
      "    \n",
      "minimax_agent=Agent(minimax_move)"
     ],
     "language": "python",
     "metadata": {},
     "outputs": [],
     "prompt_number": 36
    },
    {
     "cell_type": "code",
     "collapsed": false,
     "input": [
      "minimax_values(15,1,maxdepth=5)"
     ],
     "language": "python",
     "metadata": {},
     "outputs": [
      {
       "output_type": "stream",
       "stream": "stdout",
       "text": [
        "  Choice Time: 1.84973978996 seconds \n"
       ]
      },
      {
       "metadata": {},
       "output_type": "pyout",
       "prompt_number": 37,
       "text": [
        "([0.5, 0.5, -1], [2, 1, 3])"
       ]
      }
     ],
     "prompt_number": 37
    },
    {
     "cell_type": "code",
     "collapsed": false,
     "input": [
      "minimax_values(15,1)"
     ],
     "language": "python",
     "metadata": {},
     "outputs": [
      {
       "output_type": "stream",
       "stream": "stdout",
       "text": [
        "  Choice Time: 0.0774848461151 seconds \n"
       ]
      },
      {
       "metadata": {},
       "output_type": "pyout",
       "prompt_number": 38,
       "text": [
        "([1, -1, -1], [2, 3, 1])"
       ]
      }
     ],
     "prompt_number": 38
    },
    {
     "cell_type": "code",
     "collapsed": false,
     "input": [
      "print minimax_values(27,1,maxdepth=5)\n",
      "print minimax_values(27,1)"
     ],
     "language": "python",
     "metadata": {},
     "outputs": [
      {
       "output_type": "stream",
       "stream": "stdout",
       "text": [
        "  Choice Time: 1.7842001915 seconds \n",
        "([0.5, 0.5, 0.5], [3, 2, 1])\n",
        "  Choice Time: 12.8164310455 seconds "
       ]
      },
      {
       "output_type": "stream",
       "stream": "stdout",
       "text": [
        "\n",
        "([1, -1, -1], [2, 3, 1])\n"
       ]
      }
     ],
     "prompt_number": 40
    },
    {
     "cell_type": "code",
     "collapsed": false,
     "input": [
      "g=Game()\n",
      "wins=g.run(random_agent,minimax_agent)\n",
      "g.report()"
     ],
     "language": "python",
     "metadata": {},
     "outputs": [
      {
       "output_type": "stream",
       "stream": "stdout",
       "text": [
        "====\n",
        "Game  1\n",
        "There are  27  sticks left.\n",
        "Player 1 moves 2\n",
        "There are  25  sticks left.\n",
        "  Choice Time: 2.11038780212 seconds "
       ]
      },
      {
       "output_type": "stream",
       "stream": "stdout",
       "text": [
        "\n",
        "Player 2 moves 1\n",
        "There are  24  sticks left.\n",
        "Player 1 moves 2\n",
        "There are  22  sticks left.\n",
        "  Choice Time: 2.31487703323 seconds "
       ]
      },
      {
       "output_type": "stream",
       "stream": "stdout",
       "text": [
        "\n",
        "Player 2 moves 1\n",
        "There are  21  sticks left.\n",
        "Player 1 moves 3\n",
        "There are  18  sticks left.\n",
        "  Choice Time: 2.1640958786 seconds "
       ]
      },
      {
       "output_type": "stream",
       "stream": "stdout",
       "text": [
        "\n",
        "Player 2 moves 1\n",
        "There are  17  sticks left.\n",
        "Player 1 moves 1\n",
        "There are  16  sticks left.\n",
        "  Choice Time: 2.32250499725 seconds "
       ]
      },
      {
       "output_type": "stream",
       "stream": "stdout",
       "text": [
        "\n",
        "Player 2 moves 1\n",
        "There are  15  sticks left.\n",
        "Player 1 moves 1\n",
        "There are  14  sticks left.\n",
        "  Choice Time: 2.33826899529 seconds "
       ]
      },
      {
       "output_type": "stream",
       "stream": "stdout",
       "text": [
        "\n",
        "Player 2 moves 1\n",
        "There are  13  sticks left.\n",
        "Player 1 moves 3\n",
        "There are  10  sticks left.\n",
        "  Choice Time: 0.565336942673 seconds "
       ]
      },
      {
       "output_type": "stream",
       "stream": "stdout",
       "text": [
        "\n",
        "Player 2 moves 1\n",
        "There are  9  sticks left.\n",
        "Player 1 moves 2\n",
        "There are  7  sticks left.\n",
        "  Choice Time: 0.0010130405426 seconds \n",
        "Player 2 moves 2\n",
        "There are  5  sticks left.\n",
        "Player 1 moves 2\n",
        "There are  3  sticks left.\n",
        "  Choice Time: 9.89437103271e-05 seconds \n",
        "Player 2 moves 2\n",
        "There are  1  sticks left.\n",
        "Player  2 won.\n",
        "Total number of games:  1\n",
        "Winning 0.00 percent\n",
        "Losing 100.00 percent\n",
        "Tie 0.00 percent\n"
       ]
      }
     ],
     "prompt_number": 29
    },
    {
     "cell_type": "markdown",
     "metadata": {},
     "source": [
      "## Dealing with fatalistic agent\n",
      "\n",
      "When faced with an all-losing situation, one should really value long losing games as better than short losing games, to give the opponent a chance to make mistakes."
     ]
    },
    {
     "cell_type": "code",
     "collapsed": false,
     "input": [
      "def minimax_move(state,player):\n",
      "    values,moves=minimax_values(state,player,adjust_values_by_depth=True)\n",
      "    return top_choice(moves,values)\n",
      "minimax_agent=Agent(minimax_move)"
     ],
     "language": "python",
     "metadata": {},
     "outputs": [],
     "prompt_number": 44
    },
    {
     "cell_type": "code",
     "collapsed": false,
     "input": [
      "print minimax_values(14,1,adjust_values_by_depth=True)"
     ],
     "language": "python",
     "metadata": {},
     "outputs": [
      {
       "output_type": "stream",
       "stream": "stdout",
       "text": [
        "  Choice Time: 0.0655357837677 seconds \n",
        "([0.994, -0.995, -0.995], [1, 3, 2])\n"
       ]
      }
     ],
     "prompt_number": 49
    },
    {
     "cell_type": "markdown",
     "metadata": {},
     "source": [
      "this doesn't work quite as well in nim, because every game from a given state has the same length against a perfect player, so it has the same depth.  should work for tic tac toe."
     ]
    }
   ],
   "metadata": {}
  }
 ]
}