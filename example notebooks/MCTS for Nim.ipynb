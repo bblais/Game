{
 "cells": [
  {
   "cell_type": "code",
   "execution_count": 1,
   "metadata": {},
   "outputs": [
    {
     "name": "stdout",
     "output_type": "stream",
     "text": [
      "Version:  0.2.9\n"
     ]
    }
   ],
   "source": [
    "from Game import *\n",
    "from Game.mcts import *\n",
    "\n",
    "def initial_state():\n",
    "    return 21\n",
    "\n",
    "def valid_moves(state,player):\n",
    "    if state==1:\n",
    "        return [1]\n",
    "    elif state==2:\n",
    "        return [1,2]\n",
    "    else:\n",
    "        return [1,2,3]\n",
    "        \n",
    "def show_state(state):\n",
    "    print (\"There are \",state,\" sticks left.\")\n",
    "\n",
    "def update_state(state,player,move):\n",
    "    new_state=state-move\n",
    "    return new_state\n",
    "\n",
    "def win_status(state,player):\n",
    "\n",
    "    if state==1:\n",
    "        return 'win'\n",
    "    \n",
    "    elif state==0:\n",
    "        return 'lose'\n",
    "    \n",
    "    else:\n",
    "        return None\n",
    "\n",
    "def random_move(state,player):\n",
    "    move=random_choice(valid_moves(state,player))\n",
    "    return move\n",
    "\n",
    "\n",
    "def human_move(state,player):\n",
    "\n",
    "    move=input('Take 1, 2 or 3 sticks ')\n",
    "    return int(move)\n",
    "\n",
    "\n",
    "random_agent=Agent(random_move)\n",
    "human_agent=Agent(human_move)\n"
   ]
  },
  {
   "cell_type": "code",
   "execution_count": 8,
   "metadata": {},
   "outputs": [],
   "source": [
    "def mcts_move(state,player,info):\n",
    "    T=info.T\n",
    "    values,moves=mcts_values(state,player,T,info.seconds)\n",
    "    return top_choice(moves,values)\n",
    "\n",
    "mcts_agent=Agent(mcts_move)\n",
    "mcts_agent.T=LoadTable(filename='mcts_data.json')\n",
    "mcts_agent.seconds=10"
   ]
  },
  {
   "cell_type": "code",
   "execution_count": 3,
   "metadata": {},
   "outputs": [
    {
     "name": "stdout",
     "output_type": "stream",
     "text": [
      "====\n",
      "Game  1\n",
      "There are  21  sticks left.\n",
      "Player 1 moves 1\n",
      "There are  20  sticks left.\n",
      "Player 2 moves 3\n",
      "There are  17  sticks left.\n",
      "Player 1 moves 3\n",
      "There are  14  sticks left.\n",
      "Player 2 moves 1\n",
      "There are  13  sticks left.\n",
      "Player 1 moves 2\n",
      "There are  11  sticks left.\n",
      "Player 2 moves 2\n",
      "There are  9  sticks left.\n",
      "Player 1 moves 2\n",
      "There are  7  sticks left.\n",
      "Player 2 moves 2\n",
      "There are  5  sticks left.\n",
      "Player 1 moves 2\n",
      "There are  3  sticks left.\n",
      "Player 2 moves 2\n",
      "There are  1  sticks left.\n",
      "Player  2 won.\n",
      "Total number of games:  1\n",
      "Winning 0.00 percent\n",
      "Losing 100.00 percent\n",
      "Tie 0.00 percent\n"
     ]
    }
   ],
   "source": [
    "g=Game()\n",
    "wins=g.run(random_agent,mcts_agent)\n",
    "g.report()"
   ]
  },
  {
   "cell_type": "code",
   "execution_count": 4,
   "metadata": {},
   "outputs": [],
   "source": [
    "SaveTable(mcts_agent.T,filename='mcts_data.json')"
   ]
  },
  {
   "cell_type": "code",
   "execution_count": 9,
   "metadata": {},
   "outputs": [],
   "source": [
    "mcts_agent.seconds=0.1"
   ]
  },
  {
   "cell_type": "code",
   "execution_count": 10,
   "metadata": {},
   "outputs": [
    {
     "name": "stdout",
     "output_type": "stream",
     "text": [
      "====\n",
      "Game  1\n",
      "There are  21  sticks left.\n"
     ]
    },
    {
     "name": "stdin",
     "output_type": "stream",
     "text": [
      "Take 1, 2 or 3 sticks  2\n"
     ]
    },
    {
     "name": "stdout",
     "output_type": "stream",
     "text": [
      "Player 1 moves 2\n",
      "There are  19  sticks left.\n",
      "Player 2 moves 2\n",
      "There are  17  sticks left.\n"
     ]
    },
    {
     "name": "stdin",
     "output_type": "stream",
     "text": [
      "Take 1, 2 or 3 sticks  1\n"
     ]
    },
    {
     "name": "stdout",
     "output_type": "stream",
     "text": [
      "Player 1 moves 1\n",
      "There are  16  sticks left.\n",
      "Player 2 moves 3\n",
      "There are  13  sticks left.\n"
     ]
    },
    {
     "name": "stdin",
     "output_type": "stream",
     "text": [
      "Take 1, 2 or 3 sticks  2\n"
     ]
    },
    {
     "name": "stdout",
     "output_type": "stream",
     "text": [
      "Player 1 moves 2\n",
      "There are  11  sticks left.\n",
      "Player 2 moves 2\n",
      "There are  9  sticks left.\n"
     ]
    },
    {
     "name": "stdin",
     "output_type": "stream",
     "text": [
      "Take 1, 2 or 3 sticks  3\n"
     ]
    },
    {
     "name": "stdout",
     "output_type": "stream",
     "text": [
      "Player 1 moves 3\n",
      "There are  6  sticks left.\n",
      "Player 2 moves 1\n",
      "There are  5  sticks left.\n"
     ]
    },
    {
     "name": "stdin",
     "output_type": "stream",
     "text": [
      "Take 1, 2 or 3 sticks  2\n"
     ]
    },
    {
     "name": "stdout",
     "output_type": "stream",
     "text": [
      "Player 1 moves 2\n",
      "There are  3  sticks left.\n",
      "Player 2 moves 2\n",
      "There are  1  sticks left.\n",
      "Player  2 won.\n",
      "Total number of games:  1\n",
      "Winning 0.00 percent\n",
      "Losing 100.00 percent\n",
      "Tie 0.00 percent\n"
     ]
    }
   ],
   "source": [
    "g=Game()\n",
    "wins=g.run(human_agent,mcts_agent)\n",
    "g.report()"
   ]
  },
  {
   "cell_type": "code",
   "execution_count": 7,
   "metadata": {},
   "outputs": [],
   "source": [
    "T=LoadTable(filename='mcts_data.json')"
   ]
  },
  {
   "cell_type": "code",
   "execution_count": null,
   "metadata": {},
   "outputs": [],
   "source": []
  }
 ],
 "metadata": {
  "kernelspec": {
   "display_name": "Python 3",
   "language": "python",
   "name": "python3"
  },
  "language_info": {
   "codemirror_mode": {
    "name": "ipython",
    "version": 3
   },
   "file_extension": ".py",
   "mimetype": "text/x-python",
   "name": "python",
   "nbconvert_exporter": "python",
   "pygments_lexer": "ipython3",
   "version": "3.7.0"
  }
 },
 "nbformat": 4,
 "nbformat_minor": 2
}
