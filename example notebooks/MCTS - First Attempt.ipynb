{
 "cells": [
  {
   "cell_type": "markdown",
   "metadata": {},
   "source": [
    "from https://jeffbradberry.com/posts/2015/09/intro-to-monte-carlo-tree-search/"
   ]
  },
  {
   "cell_type": "code",
   "execution_count": 1,
   "metadata": {},
   "outputs": [
    {
     "name": "stdout",
     "output_type": "stream",
     "text": [
      "Version:  0.2.5\n"
     ]
    }
   ],
   "source": [
    "from Game import *\n",
    "from Game.minimax import *"
   ]
  },
  {
   "cell_type": "code",
   "execution_count": 2,
   "metadata": {},
   "outputs": [],
   "source": [
    "def initial_state():\n",
    "    return 21\n",
    "\n",
    "def valid_moves(state,player):\n",
    "    if state==1:\n",
    "        return [1]\n",
    "    elif state==2:\n",
    "        return [1,2]\n",
    "    else:\n",
    "        return [1,2,3]\n",
    "        \n",
    "def show_state(state):\n",
    "    print (\"There are \",state,\" sticks left.\")\n",
    "\n",
    "def update_state(state,player,move):\n",
    "    new_state=state-move\n",
    "    return new_state\n",
    "\n",
    "def win_status(state,player):\n",
    "\n",
    "    if state==1:\n",
    "        return 'win'\n",
    "    \n",
    "    elif state==0:\n",
    "        return 'lose'\n",
    "    \n",
    "    else:\n",
    "        return None\n",
    "\n",
    "def random_move(state,player):\n",
    "    move=random_choice(valid_moves(state,player))\n",
    "    return move\n",
    "\n",
    "\n",
    "def human_move(state,player):\n",
    "\n",
    "    move=input('Take 1, 2 or 3 sticks ')\n",
    "    return move\n",
    "\n",
    "\n",
    "def minimax_move(state,player):\n",
    "\n",
    "    values,moves=minimax_values(state,player)\n",
    "    return top_choice(moves,values)\n",
    "    \n",
    "    \n",
    "minimax_agent=Agent(minimax_move)\n",
    "random_agent=Agent(random_move)\n",
    "human_agent=Agent(human_move)\n"
   ]
  },
  {
   "cell_type": "code",
   "execution_count": 3,
   "metadata": {},
   "outputs": [],
   "source": [
    "from copy import deepcopy\n",
    "import datetime\n",
    "\n",
    "def mcts_values(current_state,player,seconds=30,max_moves=100):\n",
    "    moves=valid_moves(current_state,player)\n",
    "    if len(moves)==1:\n",
    "        return moves[0]\n",
    "    \n",
    "\n",
    "    original_state=deepcopy(current_state)\n",
    "    \n",
    "    T=Table()\n",
    "    \n",
    "    calculation_time=datetime.timedelta(seconds=seconds)\n",
    "    \n",
    "    begin=datetime.datetime.utcnow()\n",
    "    \n",
    "    games=0\n",
    "    while datetime.datetime.utcnow()-begin< calculation_time:\n",
    "        mcts_run_simulation(current_state,player,max_moves,T)\n",
    "        games+=1\n",
    "        \n",
    "    \n",
    "    available_states=[update_state(deepcopy(current_state),player,move)\n",
    "                                    for move in moves]    \n",
    "\n",
    "    percent_wins,move=max(\n",
    "        (T[(S,player)].get('wins',0)/T[(S,player)].get('plays',1),\n",
    "         move) for S,move in zip(available_states,moves)\n",
    "    )\n",
    "    \n",
    "    \n",
    "    values=[T[(S,player)].get('wins',0)/T[(S,player)].get('plays',1) for S in available_states]\n",
    "    \n",
    "    # sort by value\n",
    "    values,moves=mysort(values,moves,reverse=True)\n",
    "\n",
    "    \n",
    "    return values,moves\n",
    "    \n",
    "def mcts_move(state,player):\n",
    "\n",
    "    values,moves=mcts_values(state,player)\n",
    "    return top_choice(moves,values)\n",
    "    \n",
    "    \n",
    "from math import log, sqrt\n",
    "    \n",
    "def mcts_run_simulation(state,player,max_moves,T):\n",
    "    visited_state_player=[]\n",
    "    original_player=player\n",
    "    \n",
    "    C=1.4  # what is this?\n",
    "    \n",
    "    if player==1:\n",
    "        other_player=2\n",
    "    else:\n",
    "        other_player=1\n",
    "    \n",
    "    \n",
    "    first_time=True\n",
    "    for t in range(max_moves):\n",
    "        state=deepcopy(state)\n",
    "        \n",
    "        moves=valid_moves(state,player)\n",
    "        available_states=[update_state(deepcopy(state),player,move)\n",
    "                                        for move in moves]    \n",
    "        \n",
    "        if all( [(S,player) in T for S in available_states] ):\n",
    "            plays=[T[(S,player)]['plays'] for S in available_states]\n",
    "            wins=[T[(S,player)]['wins'] for S in available_states]\n",
    "            \n",
    "            log_total = log(sum(plays))\n",
    "            values=[w/p+C*sqrt(log_total/p) for w,p in zip(wins,plays)]\n",
    "            values,moves=mysort(values,moves,reverse=True)\n",
    "            \n",
    "            move=top_choice(moves,values)\n",
    "        else:\n",
    "            move=random.choice(moves)\n",
    "        \n",
    "        \n",
    "        \n",
    "        state=update_state(state,player,move)\n",
    "        status=win_status(state,player)\n",
    "        \n",
    "        # note - this is the state *after* the move by player\n",
    "        visited_state_player.append((state,player))\n",
    "        if first_time and not (state,player) in T:  # not sure why only the first time this call\n",
    "            T[(state,player)]={'plays':0,'wins':0}\n",
    "            first_time=False\n",
    "        \n",
    "        if not status is None:  # end game\n",
    "            break\n",
    "            \n",
    "        player,other_player=other_player,player\n",
    "        \n",
    "    if status=='win':\n",
    "        winner=player\n",
    "    elif status=='lose':\n",
    "        winner=other_player\n",
    "    else:\n",
    "        winner=None\n",
    "        \n",
    "    for state,player in visited_state_player:\n",
    "        if (state,player) not in T:\n",
    "            continue\n",
    "            \n",
    "        T[(state,player)]['plays']+=1\n",
    "        if player==winner:\n",
    "            T[(state,player)]['wins']+=1\n",
    "            \n",
    "    \n",
    "    "
   ]
  },
  {
   "cell_type": "code",
   "execution_count": 4,
   "metadata": {},
   "outputs": [
    {
     "name": "stdout",
     "output_type": "stream",
     "text": [
      "([0.9979108252240365, 0.3157894736842105, 0.047619047619047616], 18151, 18189, 1)\n",
      "([0.9979108252240365, 0.3157894736842105, 0.047619047619047616], 12, 38, 2)\n",
      "([0.9979108252240365, 0.3157894736842105, 0.047619047619047616], 1, 21, 3)\n"
     ]
    },
    {
     "data": {
      "text/plain": [
       "([0.9979108252240365, 0.3157894736842105, 0.047619047619047616], [1, 3, 2])"
      ]
     },
     "execution_count": 4,
     "metadata": {},
     "output_type": "execute_result"
    }
   ],
   "source": [
    "mcts_values(6,1,seconds=5)"
   ]
  },
  {
   "cell_type": "code",
   "execution_count": null,
   "metadata": {},
   "outputs": [],
   "source": []
  },
  {
   "cell_type": "code",
   "execution_count": null,
   "metadata": {},
   "outputs": [],
   "source": []
  },
  {
   "cell_type": "code",
   "execution_count": null,
   "metadata": {},
   "outputs": [],
   "source": []
  }
 ],
 "metadata": {
  "kernelspec": {
   "display_name": "Python 3",
   "language": "python",
   "name": "python3"
  },
  "language_info": {
   "codemirror_mode": {
    "name": "ipython",
    "version": 3
   },
   "file_extension": ".py",
   "mimetype": "text/x-python",
   "name": "python",
   "nbconvert_exporter": "python",
   "pygments_lexer": "ipython3",
   "version": "3.6.3"
  }
 },
 "nbformat": 4,
 "nbformat_minor": 2
}
