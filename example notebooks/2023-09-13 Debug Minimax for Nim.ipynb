{
 "cells": [
  {
   "cell_type": "code",
   "execution_count": 1,
   "metadata": {
    "collapsed": false,
    "jupyter": {
     "outputs_hidden": false
    }
   },
   "outputs": [
    {
     "name": "stdout",
     "output_type": "stream",
     "text": [
      "Version:  0.2.42\n"
     ]
    }
   ],
   "source": [
    "from Game import *\n",
    "from Game.minimax import *\n",
    "\n",
    "\n",
    "def initial_state():\n",
    "    return 21\n",
    "\n",
    "def valid_moves(state,player):\n",
    "    if state==1:\n",
    "        return [1]\n",
    "    elif state==2:\n",
    "        return [1,2]\n",
    "    else:\n",
    "        return [1,2,3]\n",
    "        \n",
    "def show_state(state):\n",
    "    print (\"There are \",state,\" sticks left.\")\n",
    "\n",
    "def update_state(state,player,move):\n",
    "    new_state=state-move\n",
    "    return new_state\n",
    "\n",
    "def win_status(state,player):\n",
    "\n",
    "    if state==1:\n",
    "        return 'win'\n",
    "    \n",
    "    elif state==0:\n",
    "        return 'lose'\n",
    "    \n",
    "    else:\n",
    "        return None\n",
    "\n",
    "def random_move(state,player):\n",
    "    move=random.choice(valid_moves(state,player))\n",
    "    return move\n",
    "\n",
    "\n",
    "def human_move(state,player):\n",
    "\n",
    "    move=input('Take 1, 2 or 3 sticks ')\n",
    "    return move\n",
    "\n",
    "\n",
    "def minimax_move(state,player):\n",
    "\n",
    "    values,moves=minimax_values(state,player)\n",
    "    return top_choice(moves,values)\n",
    "    \n",
    "    \n",
    "minimax_agent=Agent(minimax_move)\n",
    "random_agent=Agent(random_move)\n",
    "human_agent=Agent(human_move)\n"
   ]
  },
  {
   "cell_type": "markdown",
   "metadata": {},
   "source": [
    "## Running typical minimax"
   ]
  },
  {
   "cell_type": "code",
   "execution_count": 2,
   "metadata": {
    "collapsed": false,
    "jupyter": {
     "outputs_hidden": false
    }
   },
   "outputs": [
    {
     "name": "stdout",
     "output_type": "stream",
     "text": [
      "====\n",
      "Game  1\n",
      "There are  21  sticks left.\n",
      "Player 1 moves 3\n",
      "There are  18  sticks left.\n",
      "  Choice Time: 0.0017406940460205078 seconds \n",
      "Player 2 moves 1\n",
      "There are  17  sticks left.\n",
      "Player 1 moves 2\n",
      "There are  15  sticks left.\n",
      "  Choice Time: 0.0005698204040527344 seconds \n",
      "Player 2 moves 2\n",
      "There are  13  sticks left.\n",
      "Player 1 moves 2\n",
      "There are  11  sticks left.\n",
      "  Choice Time: 0.0002789497375488281 seconds \n",
      "Player 2 moves 2\n",
      "There are  9  sticks left.\n",
      "Player 1 moves 1\n",
      "There are  8  sticks left.\n",
      "  Choice Time: 0.00011992454528808594 seconds \n",
      "Player 2 moves 3\n",
      "There are  5  sticks left.\n",
      "Player 1 moves 3\n",
      "There are  2  sticks left.\n",
      "  Choice Time: 7.867813110351562e-06 seconds \n",
      "Player 2 moves 1\n",
      "There are  1  sticks left.\n",
      "Player  2 won.\n",
      "Total number of games:  1\n",
      "Winning 0.00 percent\n",
      "Losing 100.00 percent\n",
      "Tie 0.00 percent\n"
     ]
    }
   ],
   "source": [
    "g=Game()\n",
    "wins=g.run(random_agent,minimax_agent)\n",
    "\n",
    "g.report()"
   ]
  },
  {
   "cell_type": "code",
   "execution_count": 3,
   "metadata": {},
   "outputs": [],
   "source": [
    "s=inspect.signature(random_agent.move)"
   ]
  },
  {
   "cell_type": "code",
   "execution_count": 4,
   "metadata": {},
   "outputs": [
    {
     "data": {
      "text/plain": [
       "2"
      ]
     },
     "execution_count": 4,
     "metadata": {},
     "output_type": "execute_result"
    }
   ],
   "source": [
    "len(s.parameters)"
   ]
  },
  {
   "cell_type": "code",
   "execution_count": null,
   "metadata": {},
   "outputs": [],
   "source": []
  },
  {
   "cell_type": "code",
   "execution_count": 5,
   "metadata": {
    "collapsed": false,
    "jupyter": {
     "outputs_hidden": false
    }
   },
   "outputs": [
    {
     "name": "stdout",
     "output_type": "stream",
     "text": [
      "  Choice Time: 0.00010704994201660156 seconds \n"
     ]
    },
    {
     "data": {
      "text/plain": [
       "([1, -1, -1], [1, 3, 2])"
      ]
     },
     "execution_count": 5,
     "metadata": {},
     "output_type": "execute_result"
    }
   ],
   "source": [
    "minimax_values(6,1)"
   ]
  },
  {
   "cell_type": "markdown",
   "metadata": {},
   "source": [
    "when in a losing position, all the values are the same"
   ]
  },
  {
   "cell_type": "code",
   "execution_count": 6,
   "metadata": {
    "collapsed": false,
    "jupyter": {
     "outputs_hidden": false
    }
   },
   "outputs": [
    {
     "name": "stdout",
     "output_type": "stream",
     "text": [
      "  Choice Time: 3.0994415283203125e-05 seconds \n"
     ]
    },
    {
     "data": {
      "text/plain": [
       "([-1, -1, -1], [3, 2, 1])"
      ]
     },
     "execution_count": 6,
     "metadata": {},
     "output_type": "execute_result"
    }
   ],
   "source": [
    "minimax_values(5,1)"
   ]
  },
  {
   "cell_type": "markdown",
   "metadata": {},
   "source": [
    "## Dealing with the long or infinite game problem"
   ]
  },
  {
   "cell_type": "code",
   "execution_count": 7,
   "metadata": {
    "collapsed": false,
    "jupyter": {
     "outputs_hidden": false
    }
   },
   "outputs": [],
   "source": [
    "def initial_state():\n",
    "    return 27"
   ]
  },
  {
   "cell_type": "code",
   "execution_count": 8,
   "metadata": {},
   "outputs": [
    {
     "name": "stdout",
     "output_type": "stream",
     "text": [
      "  Choice Time: 0.004740715026855469 seconds \n"
     ]
    }
   ],
   "source": [
    "values,moves=minimax_values(27,1)  # was about 2 seconds"
   ]
  },
  {
   "cell_type": "code",
   "execution_count": 9,
   "metadata": {},
   "outputs": [
    {
     "name": "stdout",
     "output_type": "stream",
     "text": [
      "  Choice Time: 0.006957054138183594 seconds \n"
     ]
    }
   ],
   "source": [
    "values,moves=minimax_values(31,1)"
   ]
  },
  {
   "cell_type": "code",
   "execution_count": 10,
   "metadata": {},
   "outputs": [
    {
     "data": {
      "text/plain": [
       "([1, -1, -1], [2, 3, 1])"
      ]
     },
     "execution_count": 10,
     "metadata": {},
     "output_type": "execute_result"
    }
   ],
   "source": [
    "values,moves"
   ]
  },
  {
   "cell_type": "markdown",
   "metadata": {},
   "source": [
    "when the game is long (say the initial state is large), minimax takes a long time"
   ]
  },
  {
   "cell_type": "code",
   "execution_count": 11,
   "metadata": {
    "collapsed": false,
    "jupyter": {
     "outputs_hidden": false
    }
   },
   "outputs": [
    {
     "name": "stdout",
     "output_type": "stream",
     "text": [
      "====\n",
      "Game  1\n",
      "There are  27  sticks left.\n",
      "Player 1 moves 2\n",
      "There are  25  sticks left.\n",
      "  Choice Time: 0.0037751197814941406 seconds \n",
      "Player 2 moves 3\n",
      "There are  22  sticks left.\n",
      "Player 1 moves 2\n",
      "There are  20  sticks left.\n",
      "  Choice Time: 0.00061798095703125 seconds \n",
      "Player 2 moves 3\n",
      "There are  17  sticks left.\n",
      "Player 1 moves 3\n",
      "There are  14  sticks left.\n",
      "  Choice Time: 9.489059448242188e-05 seconds \n",
      "Player 2 moves 1\n",
      "There are  13  sticks left.\n",
      "Player 1 moves 3\n",
      "There are  10  sticks left.\n",
      "  Choice Time: 1.1920928955078125e-05 seconds \n",
      "Player 2 moves 1\n",
      "There are  9  sticks left.\n",
      "Player 1 moves 2\n",
      "There are  7  sticks left.\n",
      "  Choice Time: 0.0002980232238769531 seconds \n",
      "Player 2 moves 2\n",
      "There are  5  sticks left.\n",
      "Player 1 moves 2\n",
      "There are  3  sticks left.\n",
      "  Choice Time: 2.47955322265625e-05 seconds \n",
      "Player 2 moves 2\n",
      "There are  1  sticks left.\n",
      "Player  2 won.\n",
      "Total number of games:  1\n",
      "Winning 0.00 percent\n",
      "Losing 100.00 percent\n",
      "Tie 0.00 percent\n"
     ]
    }
   ],
   "source": [
    "g=Game()\n",
    "wins=g.run(random_agent,minimax_agent)\n",
    "g.report()"
   ]
  },
  {
   "cell_type": "markdown",
   "metadata": {},
   "source": [
    "what we can do is to set a maximum minimax depth.  When reaching this depth, and it isn't the game, the simulator gets a value from the function called heuristic.  This is just a rule of thumb, and shouldn't return a -1 or 1 (which would be certain of the penalty).  In this case I realize that odd numbers tend to be worse than even numbers, so return a middle value.  it won't play a perfect game, unless that game is shorter than the maximum depth."
   ]
  },
  {
   "cell_type": "code",
   "execution_count": 12,
   "metadata": {
    "collapsed": false,
    "jupyter": {
     "outputs_hidden": false
    }
   },
   "outputs": [],
   "source": [
    "def minimax_move(state,player):\n",
    "\n",
    "    values,moves=minimax_values(state,player,maxdepth=5)\n",
    "    return top_choice(moves,values)\n",
    "    \n",
    "def heuristic(state,player):\n",
    "    # handing the oppponent the state, is this good for you (positive) or bad for you (negative)\n",
    "    if state%2 == 0: # giving the opponent an even number tends to be bad\n",
    "        return -0.5\n",
    "    else:\n",
    "        return 0.5 # giving the opponent an odd number tends to be good\n",
    "    \n",
    "    # if you're just interested penalizing long games, just return zero.\n",
    "    \n",
    "minimax_agent=Agent(minimax_move)"
   ]
  },
  {
   "cell_type": "code",
   "execution_count": 13,
   "metadata": {
    "collapsed": false,
    "jupyter": {
     "outputs_hidden": false
    }
   },
   "outputs": [
    {
     "name": "stdout",
     "output_type": "stream",
     "text": [
      "  Choice Time: 0.01506805419921875 seconds \n"
     ]
    },
    {
     "data": {
      "text/plain": [
       "([0.5, 0.5, -1], [2, 1, 3])"
      ]
     },
     "execution_count": 13,
     "metadata": {},
     "output_type": "execute_result"
    }
   ],
   "source": [
    "minimax_values(15,1,maxdepth=5)"
   ]
  },
  {
   "cell_type": "code",
   "execution_count": 14,
   "metadata": {
    "collapsed": false,
    "jupyter": {
     "outputs_hidden": false
    }
   },
   "outputs": [
    {
     "name": "stdout",
     "output_type": "stream",
     "text": [
      "  Choice Time: 0.0013458728790283203 seconds \n"
     ]
    },
    {
     "data": {
      "text/plain": [
       "([1, -1, -1], [2, 3, 1])"
      ]
     },
     "execution_count": 14,
     "metadata": {},
     "output_type": "execute_result"
    }
   ],
   "source": [
    "minimax_values(15,1)"
   ]
  },
  {
   "cell_type": "code",
   "execution_count": 15,
   "metadata": {
    "collapsed": false,
    "jupyter": {
     "outputs_hidden": false
    }
   },
   "outputs": [
    {
     "name": "stdout",
     "output_type": "stream",
     "text": [
      "  Choice Time: 0.00047588348388671875 seconds \n",
      "([0.5, 0.5, 0.5], [3, 2, 1])\n",
      "  Choice Time: 1.7881393432617188e-05 seconds \n",
      "([1, -1, -1], [2, 3, 1])\n"
     ]
    }
   ],
   "source": [
    "print (minimax_values(27,1,maxdepth=5))\n",
    "print (minimax_values(27,1))"
   ]
  },
  {
   "cell_type": "code",
   "execution_count": 16,
   "metadata": {
    "collapsed": false,
    "jupyter": {
     "outputs_hidden": false
    }
   },
   "outputs": [
    {
     "name": "stdout",
     "output_type": "stream",
     "text": [
      "====\n",
      "Game  1\n",
      "There are  27  sticks left.\n",
      "Player 1 moves 1\n",
      "There are  26  sticks left.\n",
      "  Choice Time: 0.0004849433898925781 seconds \n",
      "Player 2 moves 1\n",
      "There are  25  sticks left.\n",
      "Player 1 moves 1\n",
      "There are  24  sticks left.\n",
      "  Choice Time: 0.000209808349609375 seconds \n",
      "Player 2 moves 3\n",
      "There are  21  sticks left.\n",
      "Player 1 moves 2\n",
      "There are  19  sticks left.\n",
      "  Choice Time: 0.0005130767822265625 seconds \n",
      "Player 2 moves 1\n",
      "There are  18  sticks left.\n",
      "Player 1 moves 1\n",
      "There are  17  sticks left.\n",
      "  Choice Time: 0.00021028518676757812 seconds \n",
      "Player 2 moves 3\n",
      "There are  14  sticks left.\n",
      "Player 1 moves 3\n",
      "There are  11  sticks left.\n",
      "  Choice Time: 0.0005888938903808594 seconds \n",
      "Player 2 moves 2\n",
      "There are  9  sticks left.\n",
      "Player 1 moves 2\n",
      "There are  7  sticks left.\n",
      "  Choice Time: 0.0001518726348876953 seconds \n",
      "Player 2 moves 2\n",
      "There are  5  sticks left.\n",
      "Player 1 moves 3\n",
      "There are  2  sticks left.\n",
      "  Choice Time: 1.3113021850585938e-05 seconds \n",
      "Player 2 moves 1\n",
      "There are  1  sticks left.\n",
      "Player  2 won.\n",
      "Total number of games:  1\n",
      "Winning 0.00 percent\n",
      "Losing 100.00 percent\n",
      "Tie 0.00 percent\n"
     ]
    }
   ],
   "source": [
    "g=Game()\n",
    "wins=g.run(random_agent,minimax_agent)\n",
    "g.report()"
   ]
  },
  {
   "cell_type": "markdown",
   "metadata": {},
   "source": [
    "## Dealing with fatalistic agent\n",
    "\n",
    "When faced with an all-losing situation, one should really value long losing games as better than short losing games, to give the opponent a chance to make mistakes."
   ]
  },
  {
   "cell_type": "code",
   "execution_count": 17,
   "metadata": {
    "collapsed": false,
    "jupyter": {
     "outputs_hidden": false
    }
   },
   "outputs": [],
   "source": [
    "def minimax_move(state,player):\n",
    "    values,moves=minimax_values(state,player,adjust_values_by_depth=True)\n",
    "    return top_choice(moves,values)\n",
    "minimax_agent=Agent(minimax_move)"
   ]
  },
  {
   "cell_type": "code",
   "execution_count": 18,
   "metadata": {
    "collapsed": false,
    "jupyter": {
     "outputs_hidden": false
    }
   },
   "outputs": [
    {
     "name": "stdout",
     "output_type": "stream",
     "text": [
      "  Choice Time: 0.0018401145935058594 seconds \n",
      "([0.994, -0.995, -0.995], [1, 3, 2])\n"
     ]
    }
   ],
   "source": [
    "print (minimax_values(14,1,adjust_values_by_depth=True))"
   ]
  },
  {
   "cell_type": "markdown",
   "metadata": {},
   "source": [
    "this doesn't work quite as well in nim, because every game from a given state has the same length against a perfect player, so it has the same depth.  should work for tic tac toe."
   ]
  }
 ],
 "metadata": {
  "kernelspec": {
   "display_name": "Python 3 (ipykernel)",
   "language": "python",
   "name": "python3"
  },
  "language_info": {
   "codemirror_mode": {
    "name": "ipython",
    "version": 3
   },
   "file_extension": ".py",
   "mimetype": "text/x-python",
   "name": "python",
   "nbconvert_exporter": "python",
   "pygments_lexer": "ipython3",
   "version": "3.11.4"
  }
 },
 "nbformat": 4,
 "nbformat_minor": 4
}
