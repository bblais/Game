{
 "cells": [
  {
   "cell_type": "code",
   "execution_count": 47,
   "id": "db18521d-dddc-40a7-b967-f467e36149c1",
   "metadata": {},
   "outputs": [],
   "source": [
    "from collections import UserDict\n",
    "import os\n",
    "import zipfile\n",
    "import json\n",
    "from collections import UserDict\n",
    "\n",
    "def tuple2str(var):\n",
    "    from copy import deepcopy\n",
    "    \n",
    "    if not isinstance(var,(dict,UserDict)):\n",
    "        return var\n",
    "    \n",
    "    newvar={}\n",
    "    for key in var:\n",
    "        if isinstance(key,tuple):  # either a board or board and player\n",
    "            newtuple=[]\n",
    "            for v in key:\n",
    "                try:\n",
    "                    len(v)\n",
    "                    newtuple.append(tuple(v))\n",
    "                except TypeError:\n",
    "                    newtuple.append(v)\n",
    "\n",
    "            newvar[str(tuple(newtuple))]=tuple2str(var[key])\n",
    "        else:\n",
    "            newvar[key]=tuple2str(var[key])\n",
    "            \n",
    "        \n",
    "    return newvar\n",
    "\n",
    "def str2table(var):\n",
    "    from copy import deepcopy\n",
    "    \n",
    "    if not isinstance(var,dict):\n",
    "        return var\n",
    "    \n",
    "    newvar=Table()\n",
    "    for key in var:\n",
    "        if (isinstance(key,str) or isinstance(key,unicode)) and key.startswith('(') and key.endswith(')'): # this is a tuple\n",
    "            newkey=eval(key)\n",
    "            newvar[newkey]=str2table(var[key])\n",
    "        else:\n",
    "            try:\n",
    "                newkey=int(key)\n",
    "            except ValueError:\n",
    "                newkey=key\n",
    "                \n",
    "            newvar[newkey]=str2table(var[key])\n",
    "            \n",
    "        \n",
    "    return newvar\n",
    "\n",
    "\n",
    "def make_immutable(var):\n",
    "    from copy import deepcopy\n",
    "    \n",
    "    try:\n",
    "        var=var.immutable()\n",
    "    except AttributeError:\n",
    "        var=deepcopy(var)\n",
    "\n",
    "    if isinstance(var,tuple):\n",
    "        var=list(var)\n",
    "    \n",
    "    if isinstance(var,list):\n",
    "        for i in range(len(var)):\n",
    "            var[i]=make_immutable(var[i])\n",
    "        return tuple(var)\n",
    "    else:\n",
    "        return var\n",
    "        \n",
    "from Game import Board\n",
    "def state2key(state):\n",
    "    if isinstance(state,Board):\n",
    "        return tuple(state)\n",
    "    elif isinstance(state,int):\n",
    "        return state\n",
    "\n",
    "    # can be a tuple or list\n",
    "\n",
    "    return tuple(state2key(_) for _ in state)\n",
    "\n",
    "\n",
    "class Table(dict):\n",
    "\n",
    "    def __init__(self, other=None,**kwargs):\n",
    "        \n",
    "        if other:\n",
    "            # Doesn't do keyword args\n",
    "            if isinstance(other, dict):\n",
    "                for k,v in list(other.items()):\n",
    "                    k=make_immutable(k)\n",
    "                    dict.__setitem__(self, k, v)\n",
    "            else:\n",
    "                for k,v in other:\n",
    "                    k=make_immutable(k)\n",
    "                    dict.__setitem__(self, k.lower(), v)\n",
    "\n",
    "        if kwargs:\n",
    "            for k,v in kwargs:\n",
    "                k=make_immutable(k)\n",
    "                dict.__setitem__(self, k.lower(), v)\n",
    "            \n",
    "\n",
    "    def max(self):\n",
    "        s=[]\n",
    "        for key in self.keys():\n",
    "            s.append(self[key])\n",
    "\n",
    "        return max(s)\n",
    "\n",
    "    def argmax(self):\n",
    "        \n",
    "        s=[]\n",
    "        for key in self.keys():\n",
    "            s.append(self[key])\n",
    "\n",
    "        argmax=max(zip(s, range(len(s))))[1]\n",
    "        return argmax\n",
    "\n",
    "    def min(self):\n",
    "        s=[]\n",
    "        for key in self.keys():\n",
    "            s.append(self[key])\n",
    "\n",
    "        return min(s)\n",
    "\n",
    "    def __getitem__(self, key):\n",
    "        key=make_immutable(key)\n",
    "        return dict.__getitem__(self, key)\n",
    "\n",
    "    def __setitem__(self, key, value):\n",
    "        key=make_immutable(key)\n",
    "        dict.__setitem__(self, key, value)\n",
    "\n",
    "    def __contains__(self, key):\n",
    "        key=make_immutable(key)\n",
    "        try:\n",
    "            value=dict.__contains__(self, key)\n",
    "        except TypeError:\n",
    "            print(\"Key is %s\" % str(key))\n",
    "            raise\n",
    "        return value\n",
    "\n",
    "    def has_key(self, key):\n",
    "        key=make_immutable(key)\n",
    "        return dict.has_key(self, key)\n",
    "\n",
    "    def get(self, key, def_val=None):\n",
    "        key=make_immutable(key)\n",
    "        return dict.get(self, key, def_val)\n",
    "\n",
    "    def setdefault(self, key, def_val=None):\n",
    "        key=make_immutable(key)\n",
    "        return dict.setdefault(self, key, def_val)\n",
    "\n",
    "    def update(self, other):\n",
    "        for k,v in list(other.items()):\n",
    "            k=make_immutable(k)\n",
    "            dict.__setitem__(self, k.lower(), v)\n",
    "\n",
    "    def fromkeys(self, iterable, value=None):\n",
    "        d = Dict()\n",
    "        for k in iterable:\n",
    "            k=make_immutable(k)\n",
    "            \n",
    "            dict.__setitem__(d, k, value)\n",
    "        return d\n",
    "\n",
    "    def pop(self, key, def_val=None):\n",
    "        key=make_immutable(key)\n",
    "        \n",
    "        return dict.pop(self, key, def_val)\n",
    "    \n",
    "    def save(self,filename):\n",
    "        SaveTable(self,filename)\n",
    "        \n",
    "    def load(self,filename):\n",
    "    \n",
    "        obj=LoadTable(filename)\n",
    "        \n",
    "        for key in obj:\n",
    "            self[key]=obj[key]\n",
    "        \n",
    "\n",
    "def SaveTable(obj, filename='_memory_.json'):\n",
    "    \"\"\"Saves an object to disk\n",
    "    \n",
    "    Example:  Save([1,2,3])\n",
    "    \"\"\"\n",
    "    \n",
    "    if filename.endswith('.zip'):\n",
    "        with zipfile.ZipFile(filename, 'w', compression=zipfile.ZIP_DEFLATED) as f:\n",
    "            f.writestr(filename[:-4],json.dumps(tuple2str(obj),sort_keys=True, indent=4))\n",
    "    else:\n",
    "        with open(filename, 'w') as f:\n",
    "            json.dump(tuple2str(obj),f, sort_keys=True, indent=4,)\n",
    "\n",
    "def LoadTable(filename='_memory_.json',handle_exist=True):\n",
    "    \"\"\"Loads an object from disk\n",
    "\n",
    "    Example:  a=Load()\n",
    "    \"\"\"\n",
    "    if handle_exist:\n",
    "        if not os.path.exists(filename):\n",
    "            T=Table()\n",
    "            SaveTable(T,filename)\n",
    "            return T\n",
    "\n",
    "    if '.zip' in filename:\n",
    "        with zipfile.ZipFile(filename, 'r') as f:\n",
    "            data = f.read(filename[:-4])\n",
    "            obj = json.loads(data)\n",
    "    else:\n",
    "        with open(filename,'r') as f:\n",
    "            obj = json.load(f)\n",
    "\n",
    "            \n",
    "    obj=str2table(obj)\n",
    "        \n",
    "        \n",
    "    return obj\n",
    "\n"
   ]
  },
  {
   "cell_type": "code",
   "execution_count": 52,
   "id": "912be04c-ecfb-45af-9691-a418f7ed9cd4",
   "metadata": {},
   "outputs": [],
   "source": [
    "import ijson\n",
    "from Game.tables import make_immutable,str2table\n",
    "\n",
    "class SmallTable(object):\n",
    "\n",
    "    def __init__(self,filename):\n",
    "        self.filename=filename\n",
    "\n",
    "    def __getitem__(self, key):\n",
    "        key=make_immutable(key)\n",
    "        with open(self.filename, \"rb\") as f:\n",
    "            for record in ijson.items(f, str(key)):\n",
    "                return str2table(record)\n",
    "\n",
    "        raise KeyError\n",
    "\n",
    "    def __contains__(self, key):\n",
    "        keyi=make_immutable(key)\n",
    "        try:\n",
    "            value=self[keyi]\n",
    "            return True\n",
    "        except KeyError:\n",
    "            print(key)\n",
    "            print(keyi.__repr__())\n",
    "            return False\n",
    "\n"
   ]
  },
  {
   "cell_type": "code",
   "execution_count": 53,
   "id": "47827f2e-1c35-4e1f-bd10-7b23e3eb2e88",
   "metadata": {},
   "outputs": [],
   "source": [
    "T=LoadTable(\"TTT Q2 Table.json\")\n",
    "T2=SmallTable(\"TTT Q2 Table.json\")"
   ]
  },
  {
   "cell_type": "code",
   "execution_count": 54,
   "id": "c6a820a5-d4ae-4603-acdb-31f38b813e4f",
   "metadata": {},
   "outputs": [
    {
     "data": {
      "text/plain": [
       " 0  0  0 \n",
       " 0  0  0 \n",
       " 0  1  0 "
      ]
     },
     "execution_count": 54,
     "metadata": {},
     "output_type": "execute_result"
    }
   ],
   "source": [
    "from Game import Board\n",
    "state=Board(3,3)\n",
    "state[7]=1\n",
    "state[8]=0\n",
    "state"
   ]
  },
  {
   "cell_type": "code",
   "execution_count": 60,
   "id": "b9251f3d-d9c9-474b-a03f-5a8a79ed9418",
   "metadata": {},
   "outputs": [
    {
     "data": {
      "text/plain": [
       "{0: Decimal('0.5118205736205067'),\n",
       " 1: Decimal('0.5437698866979421'),\n",
       " 2: Decimal('0.23025027055509165'),\n",
       " 3: Decimal('0.3264742882318505'),\n",
       " 4: Decimal('0.684579799793494'),\n",
       " 5: Decimal('0.5145740211663807'),\n",
       " 6: Decimal('0.5443245958716773'),\n",
       " 8: Decimal('0.4312807581062598')}"
      ]
     },
     "execution_count": 60,
     "metadata": {},
     "output_type": "execute_result"
    }
   ],
   "source": [
    "T2[state]"
   ]
  },
  {
   "cell_type": "code",
   "execution_count": 59,
   "id": "383786e1-7468-4016-9e34-830201bac91f",
   "metadata": {},
   "outputs": [
    {
     "data": {
      "text/plain": [
       "4"
      ]
     },
     "execution_count": 59,
     "metadata": {},
     "output_type": "execute_result"
    }
   ],
   "source": [
    "from Game import top_choice\n",
    "top_choice(T2[state])"
   ]
  },
  {
   "cell_type": "code",
   "execution_count": 56,
   "id": "c7e0816c-b41a-4f7b-9e79-f5cb88eb1a88",
   "metadata": {},
   "outputs": [
    {
     "data": {
      "text/plain": [
       "True"
      ]
     },
     "execution_count": 56,
     "metadata": {},
     "output_type": "execute_result"
    }
   ],
   "source": [
    "state in T2"
   ]
  },
  {
   "cell_type": "code",
   "execution_count": 23,
   "id": "90675256-1470-4aad-b2dc-0cb9c6ec62ae",
   "metadata": {},
   "outputs": [
    {
     "data": {
      "text/plain": [
       "\u001b[0;31mSignature:\u001b[0m \u001b[0mijson\u001b[0m\u001b[0;34m.\u001b[0m\u001b[0mitems\u001b[0m\u001b[0;34m(\u001b[0m\u001b[0msource\u001b[0m\u001b[0;34m,\u001b[0m \u001b[0mprefix\u001b[0m\u001b[0;34m,\u001b[0m \u001b[0mmap_type\u001b[0m\u001b[0;34m=\u001b[0m\u001b[0;32mNone\u001b[0m\u001b[0;34m,\u001b[0m \u001b[0mbuf_size\u001b[0m\u001b[0;34m=\u001b[0m\u001b[0;36m65536\u001b[0m\u001b[0;34m,\u001b[0m \u001b[0;34m**\u001b[0m\u001b[0mconfig\u001b[0m\u001b[0;34m)\u001b[0m\u001b[0;34m\u001b[0m\u001b[0;34m\u001b[0m\u001b[0m\n",
       "\u001b[0;31mDocstring:\u001b[0m <no docstring>\n",
       "\u001b[0;31mFile:\u001b[0m      ~/venvs/work/lib/python3.12/site-packages/ijson/common.py\n",
       "\u001b[0;31mType:\u001b[0m      function"
      ]
     },
     "metadata": {},
     "output_type": "display_data"
    }
   ],
   "source": [
    "ijson.items?"
   ]
  },
  {
   "cell_type": "code",
   "execution_count": 42,
   "id": "866adcd9-b812-4bed-ad44-25650e287991",
   "metadata": {},
   "outputs": [
    {
     "name": "stdout",
     "output_type": "stream",
     "text": [
      "{'0': Decimal('0.884997849248777'), '1': Decimal('0.7555575661211674'), '2': Decimal('0.8424417020807933'), '3': Decimal('0.8299227675383533'), '4': Decimal('0.5455808777476829'), '5': Decimal('0.6590824262654658'), '7': Decimal('0.12939579972652365')}\n",
      "{0: Decimal('0.884997849248777'), 1: Decimal('0.7555575661211674'), 2: Decimal('0.8424417020807933'), 3: Decimal('0.8299227675383533'), 4: Decimal('0.5455808777476829'), 5: Decimal('0.6590824262654658'), 7: Decimal('0.12939579972652365')}\n"
     ]
    }
   ],
   "source": [
    "import ijson\n",
    "import json\n",
    "filename=\"TTT Q1 Table.json\"\n",
    "with open(filename, \"rb\") as f:\n",
    "    for record in ijson.items(f, '(0, 0, 0, 0, 0, 0, 1, 0, 2)'):\n",
    "        print(record)\n",
    "        print(str2table(record))\n",
    "        break"
   ]
  },
  {
   "cell_type": "code",
   "execution_count": 18,
   "id": "c9b5a1f2-b9a2-4ff1-8caa-efd0986775c5",
   "metadata": {},
   "outputs": [
    {
     "ename": "NameError",
     "evalue": "name 'record' is not defined",
     "output_type": "error",
     "traceback": [
      "\u001b[0;31m---------------------------------------------------------------------------\u001b[0m",
      "\u001b[0;31mNameError\u001b[0m                                 Traceback (most recent call last)",
      "Cell \u001b[0;32mIn[18], line 1\u001b[0m\n\u001b[0;32m----> 1\u001b[0m \u001b[43mrecord\u001b[49m\n",
      "\u001b[0;31mNameError\u001b[0m: name 'record' is not defined"
     ]
    }
   ],
   "source": [
    "record"
   ]
  },
  {
   "cell_type": "code",
   "execution_count": 19,
   "id": "0adba2f7-1dbf-4bef-80d5-a4fffa11e5ca",
   "metadata": {},
   "outputs": [],
   "source": [
    "with open(filename,'r') as f:\n",
    "    obj = json.load(f)\n"
   ]
  },
  {
   "cell_type": "code",
   "execution_count": 40,
   "id": "9396716a-155d-4e24-938a-d67129c10521",
   "metadata": {},
   "outputs": [
    {
     "name": "stdout",
     "output_type": "stream",
     "text": [
      " start_map None\n"
     ]
    }
   ],
   "source": [
    "with open(filename, \"rb\") as f:\n",
    "    parser = ijson.parse(f)\n",
    "    for prefix, event, value in parser:\n",
    "        print(prefix, event, value)\n",
    "        break"
   ]
  },
  {
   "cell_type": "code",
   "execution_count": 41,
   "id": "f3dfc19a-0cb8-4736-ab8b-327d6044d9ed",
   "metadata": {},
   "outputs": [
    {
     "data": {
      "text/plain": [
       "\u001b[0;31mSignature:\u001b[0m \u001b[0mijson\u001b[0m\u001b[0;34m.\u001b[0m\u001b[0mparse\u001b[0m\u001b[0;34m(\u001b[0m\u001b[0msource\u001b[0m\u001b[0;34m,\u001b[0m \u001b[0mbuf_size\u001b[0m\u001b[0;34m=\u001b[0m\u001b[0;36m65536\u001b[0m\u001b[0;34m,\u001b[0m \u001b[0;34m**\u001b[0m\u001b[0mconfig\u001b[0m\u001b[0;34m)\u001b[0m\u001b[0;34m\u001b[0m\u001b[0;34m\u001b[0m\u001b[0m\n",
       "\u001b[0;31mDocstring:\u001b[0m <no docstring>\n",
       "\u001b[0;31mFile:\u001b[0m      ~/venvs/work/lib/python3.12/site-packages/ijson/common.py\n",
       "\u001b[0;31mType:\u001b[0m      function"
      ]
     },
     "metadata": {},
     "output_type": "display_data"
    }
   ],
   "source": [
    "ijson.parse?"
   ]
  },
  {
   "cell_type": "code",
   "execution_count": null,
   "id": "6cc32a5d-769d-4b56-9b58-a45233c4b767",
   "metadata": {},
   "outputs": [],
   "source": []
  }
 ],
 "metadata": {
  "kernelspec": {
   "display_name": "Python 3 (ipykernel)",
   "language": "python",
   "name": "python3"
  },
  "language_info": {
   "codemirror_mode": {
    "name": "ipython",
    "version": 3
   },
   "file_extension": ".py",
   "mimetype": "text/x-python",
   "name": "python",
   "nbconvert_exporter": "python",
   "pygments_lexer": "ipython3",
   "version": "3.12.6"
  }
 },
 "nbformat": 4,
 "nbformat_minor": 5
}
