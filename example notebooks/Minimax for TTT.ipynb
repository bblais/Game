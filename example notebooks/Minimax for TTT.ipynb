{
 "cells": [
  {
   "cell_type": "code",
   "execution_count": 1,
   "metadata": {
    "collapsed": false,
    "jupyter": {
     "outputs_hidden": false
    }
   },
   "outputs": [
    {
     "name": "stdout",
     "output_type": "stream",
     "text": [
      "Version:  0.2.14\n"
     ]
    }
   ],
   "source": [
    "from Game import *\n",
    "from Game.minimax import *\n",
    "\n",
    "def initial_state():\n",
    "    return Board(3,3)\n",
    "    \n",
    "def valid_moves(state,player):\n",
    "\n",
    "    empty=[]\n",
    "    for i in range(9):\n",
    "        if state[i]==0:\n",
    "            empty.append(i)\n",
    "\n",
    "    return empty\n",
    "    \n",
    "    \n",
    "def win_status(state,player):\n",
    "    # in ttt, after a move, that player can either win or stalemate\n",
    "    # they can't lose after their own move\n",
    "    \n",
    "    for i1,i2,i3 in [  [0,1,2],[2,5,8],[3,4,5],[6,7,8],\n",
    "                    [0,3,6],[1,4,7], [0,4,8],[6,4,2]  ]:\n",
    "        if state[i1]==player and state[i2]==player and state[i3]==player:\n",
    "            return 'win'\n",
    "\n",
    "\n",
    "    # stalemate\n",
    "    tie=True\n",
    "    for i in range(9):\n",
    "        if state[i]==0:\n",
    "            tie=False\n",
    "\n",
    "    if tie:\n",
    "        return 'stalemate'\n",
    "\n",
    "\n",
    "\n",
    "def update_state(state,player,move):\n",
    "    state[move]=player\n",
    "    return state\n",
    "\n",
    "\n",
    "\n",
    "def show_state(state):\n",
    "\n",
    "    print(state)\n",
    "\n",
    "def random_move(state,player):\n",
    "\n",
    "    moves=valid_moves(state,player)\n",
    "    return random.choice(moves)\n",
    "\n",
    "def human_move(state,player):\n",
    "    print( \"Player \", player)\n",
    "    valid_move=False\n",
    "    while not valid_move:\n",
    "        move=input('What is your move? ')\n",
    "        move=int(move)\n",
    "\n",
    "        if move in valid_moves(state,player):\n",
    "            valid_move=True\n",
    "        else:\n",
    "            print( \"Illegal move.\")\n",
    "\n",
    "    return move\n",
    "    \n",
    "human_agent=Agent(human_move)\n",
    "random_agent=Agent(random_move)\n",
    "   "
   ]
  },
  {
   "cell_type": "code",
   "execution_count": 2,
   "metadata": {
    "collapsed": false,
    "jupyter": {
     "outputs_hidden": false
    }
   },
   "outputs": [],
   "source": [
    "def heuristic(state,player):\n",
    "    return 0\n",
    "\n",
    "def minimax_move(state,player):\n",
    "\n",
    "    values,moves=minimax_values(state,player,maxdepth=4)\n",
    "    values,moves=minimax_values(state,player)\n",
    "    \n",
    "    \n",
    "    return top_choice(moves,values)\n",
    "    \n",
    "    \n",
    "minimax_agent=Agent(minimax_move)"
   ]
  },
  {
   "cell_type": "code",
   "execution_count": 3,
   "metadata": {
    "collapsed": false,
    "jupyter": {
     "outputs_hidden": false
    }
   },
   "outputs": [
    {
     "name": "stdout",
     "output_type": "stream",
     "text": [
      "====\n",
      "Game  1\n",
      " 0  0  0 \n",
      " 0  0  0 \n",
      " 0  0  0 \n",
      "\n",
      "  Choice Time: 0.46585512161254883 seconds \n",
      "  Choice Time: 2.7675788402557373 seconds \n",
      "Player 1 moves 0\n",
      " 1  0  0 \n",
      " 0  0  0 \n",
      " 0  0  0 \n",
      "\n",
      "Player  2\n"
     ]
    },
    {
     "name": "stdin",
     "output_type": "stream",
     "text": [
      "What is your move?  5\n"
     ]
    },
    {
     "name": "stdout",
     "output_type": "stream",
     "text": [
      "Player 2 moves 5\n",
      " 1  0  0 \n",
      " 0  0  2 \n",
      " 0  0  0 \n",
      "\n",
      "  Choice Time: 0.10772180557250977 seconds \n",
      "  Choice Time: 0.11843204498291016 seconds \n",
      "Player 1 moves 2\n",
      " 1  0  1 \n",
      " 0  0  2 \n",
      " 0  0  0 \n",
      "\n",
      "Player  2\n"
     ]
    },
    {
     "name": "stdin",
     "output_type": "stream",
     "text": [
      "What is your move?  2\n"
     ]
    },
    {
     "name": "stdout",
     "output_type": "stream",
     "text": [
      "Illegal move.\n"
     ]
    },
    {
     "name": "stdin",
     "output_type": "stream",
     "text": [
      "What is your move?  1\n"
     ]
    },
    {
     "name": "stdout",
     "output_type": "stream",
     "text": [
      "Player 2 moves 1\n",
      " 1  2  1 \n",
      " 0  0  2 \n",
      " 0  0  0 \n",
      "\n",
      "  Choice Time: 0.013553142547607422 seconds \n",
      "  Choice Time: 0.010956764221191406 seconds \n",
      "Player 1 moves 4\n",
      " 1  2  1 \n",
      " 0  1  2 \n",
      " 0  0  0 \n",
      "\n",
      "Player  2\n"
     ]
    },
    {
     "name": "stdin",
     "output_type": "stream",
     "text": [
      "What is your move?  6\n"
     ]
    },
    {
     "name": "stdout",
     "output_type": "stream",
     "text": [
      "Player 2 moves 6\n",
      " 1  2  1 \n",
      " 0  1  2 \n",
      " 2  0  0 \n",
      "\n",
      "  Choice Time: 0.0007798671722412109 seconds \n",
      "  Choice Time: 0.000926971435546875 seconds \n",
      "Player 1 moves 8\n",
      " 1  2  1 \n",
      " 0  1  2 \n",
      " 2  0  1 \n",
      "\n",
      "Player  1 won.\n",
      "Total number of games:  1\n",
      "Winning 100.00 percent\n",
      "Losing 0.00 percent\n",
      "Tie 0.00 percent\n"
     ]
    }
   ],
   "source": [
    "g=Game()\n",
    "wins=g.run(minimax_agent,human_agent)\n",
    "\n",
    "g.report()\n"
   ]
  },
  {
   "cell_type": "code",
   "execution_count": 4,
   "metadata": {
    "collapsed": false,
    "jupyter": {
     "outputs_hidden": false
    }
   },
   "outputs": [],
   "source": [
    "state=initial_state()"
   ]
  },
  {
   "cell_type": "code",
   "execution_count": 5,
   "metadata": {
    "collapsed": false,
    "jupyter": {
     "outputs_hidden": false
    }
   },
   "outputs": [
    {
     "name": "stdout",
     "output_type": "stream",
     "text": [
      "  Choice Time: 2.4778249263763428 seconds \n"
     ]
    },
    {
     "data": {
      "text/plain": [
       "([0, 0, 0, 0, 0, 0, 0, 0, 0], [8, 7, 6, 5, 4, 3, 2, 1, 0])"
      ]
     },
     "execution_count": 5,
     "metadata": {},
     "output_type": "execute_result"
    }
   ],
   "source": [
    "minimax_values(state,1)"
   ]
  },
  {
   "cell_type": "code",
   "execution_count": null,
   "metadata": {
    "collapsed": false,
    "jupyter": {
     "outputs_hidden": false
    }
   },
   "outputs": [],
   "source": []
  }
 ],
 "metadata": {
  "kernelspec": {
   "display_name": "Python 3",
   "language": "python",
   "name": "python3"
  },
  "language_info": {
   "codemirror_mode": {
    "name": "ipython",
    "version": 3
   },
   "file_extension": ".py",
   "mimetype": "text/x-python",
   "name": "python",
   "nbconvert_exporter": "python",
   "pygments_lexer": "ipython3",
   "version": "3.7.3"
  }
 },
 "nbformat": 4,
 "nbformat_minor": 4
}
